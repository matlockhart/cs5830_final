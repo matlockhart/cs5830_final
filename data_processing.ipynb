{
 "metadata": {
  "language_info": {
   "codemirror_mode": {
    "name": "ipython",
    "version": 3
   },
   "file_extension": ".py",
   "mimetype": "text/x-python",
   "name": "python",
   "nbconvert_exporter": "python",
   "pygments_lexer": "ipython3",
   "version": "3.7.4-final"
  },
  "orig_nbformat": 2,
  "kernelspec": {
   "name": "python374jvsc74a57bd061a8c89f066b89c6c8cb29e6829180a29195d2923b6ceb796aef880c2a312c72",
   "display_name": "Python 3.7.4 64-bit"
  }
 },
 "nbformat": 4,
 "nbformat_minor": 2,
 "cells": [
  {
   "cell_type": "code",
   "execution_count": 33,
   "metadata": {},
   "outputs": [],
   "source": [
    "import numpy as np\n",
    "import pandas as pd\n",
    "import seaborn as sns\n",
    "import matplotlib.pyplot\n",
    "\n",
    "from matplotlib import pyplot as plt"
   ]
  },
  {
   "cell_type": "code",
   "execution_count": 13,
   "metadata": {},
   "outputs": [],
   "source": [
    "data = pd.read_csv(\"Traffic_Violations_2.csv\")"
   ]
  },
  {
   "cell_type": "code",
   "execution_count": 5,
   "metadata": {},
   "outputs": [
    {
     "output_type": "execute_result",
     "data": {
      "text/plain": [
       "                               Arrest Type       c\n",
       "0                        A - Marked Patrol  192287\n",
       "1                         Q - Marked Laser   34393\n",
       "2                      B - Unmarked Patrol   10526\n",
       "3            S - License Plate Recognition    4158\n",
       "4                          O - Foot Patrol    3565\n",
       "5                           L - Motorcycle    3033\n",
       "6              E - Marked Stationary Radar    1781\n",
       "7     G - Marked Moving Radar (Stationary)    1519\n",
       "8                       R - Unmarked Laser    1237\n",
       "9         I - Marked Moving Radar (Moving)     617\n",
       "10                   M - Marked (Off-Duty)     333\n",
       "11  H - Unmarked Moving Radar (Stationary)     248\n",
       "12           F - Unmarked Stationary Radar     233\n",
       "13      J - Unmarked Moving Radar (Moving)     143\n",
       "14                       C - Marked VASCAR      76\n",
       "15                 N - Unmarked (Off-Duty)      47\n",
       "16                      P - Mounted Patrol      31\n",
       "17                     D - Unmarked VASCAR      20\n",
       "18                     K - Aircraft Assist      11"
      ],
      "text/html": "<div>\n<style scoped>\n    .dataframe tbody tr th:only-of-type {\n        vertical-align: middle;\n    }\n\n    .dataframe tbody tr th {\n        vertical-align: top;\n    }\n\n    .dataframe thead th {\n        text-align: right;\n    }\n</style>\n<table border=\"1\" class=\"dataframe\">\n  <thead>\n    <tr style=\"text-align: right;\">\n      <th></th>\n      <th>Arrest Type</th>\n      <th>c</th>\n    </tr>\n  </thead>\n  <tbody>\n    <tr>\n      <th>0</th>\n      <td>A - Marked Patrol</td>\n      <td>192287</td>\n    </tr>\n    <tr>\n      <th>1</th>\n      <td>Q - Marked Laser</td>\n      <td>34393</td>\n    </tr>\n    <tr>\n      <th>2</th>\n      <td>B - Unmarked Patrol</td>\n      <td>10526</td>\n    </tr>\n    <tr>\n      <th>3</th>\n      <td>S - License Plate Recognition</td>\n      <td>4158</td>\n    </tr>\n    <tr>\n      <th>4</th>\n      <td>O - Foot Patrol</td>\n      <td>3565</td>\n    </tr>\n    <tr>\n      <th>5</th>\n      <td>L - Motorcycle</td>\n      <td>3033</td>\n    </tr>\n    <tr>\n      <th>6</th>\n      <td>E - Marked Stationary Radar</td>\n      <td>1781</td>\n    </tr>\n    <tr>\n      <th>7</th>\n      <td>G - Marked Moving Radar (Stationary)</td>\n      <td>1519</td>\n    </tr>\n    <tr>\n      <th>8</th>\n      <td>R - Unmarked Laser</td>\n      <td>1237</td>\n    </tr>\n    <tr>\n      <th>9</th>\n      <td>I - Marked Moving Radar (Moving)</td>\n      <td>617</td>\n    </tr>\n    <tr>\n      <th>10</th>\n      <td>M - Marked (Off-Duty)</td>\n      <td>333</td>\n    </tr>\n    <tr>\n      <th>11</th>\n      <td>H - Unmarked Moving Radar (Stationary)</td>\n      <td>248</td>\n    </tr>\n    <tr>\n      <th>12</th>\n      <td>F - Unmarked Stationary Radar</td>\n      <td>233</td>\n    </tr>\n    <tr>\n      <th>13</th>\n      <td>J - Unmarked Moving Radar (Moving)</td>\n      <td>143</td>\n    </tr>\n    <tr>\n      <th>14</th>\n      <td>C - Marked VASCAR</td>\n      <td>76</td>\n    </tr>\n    <tr>\n      <th>15</th>\n      <td>N - Unmarked (Off-Duty)</td>\n      <td>47</td>\n    </tr>\n    <tr>\n      <th>16</th>\n      <td>P - Mounted Patrol</td>\n      <td>31</td>\n    </tr>\n    <tr>\n      <th>17</th>\n      <td>D - Unmarked VASCAR</td>\n      <td>20</td>\n    </tr>\n    <tr>\n      <th>18</th>\n      <td>K - Aircraft Assist</td>\n      <td>11</td>\n    </tr>\n  </tbody>\n</table>\n</div>"
     },
     "metadata": {},
     "execution_count": 5
    }
   ],
   "source": [
    "#data[data['Belts'] == 'Yes']\n",
    "#data.groupby(['Race']).agg(['count'])\n",
    "d = data.value_counts(['Arrest Type']).reset_index(name='c')\n",
    "d"
   ]
  },
  {
   "cell_type": "code",
   "execution_count": 6,
   "metadata": {},
   "outputs": [
    {
     "output_type": "execute_result",
     "data": {
      "text/plain": [
       "737"
      ]
     },
     "metadata": {},
     "execution_count": 6
    }
   ],
   "source": [
    "len(data['Charge'].unique())"
   ]
  },
  {
   "cell_type": "code",
   "execution_count": 7,
   "metadata": {},
   "outputs": [
    {
     "output_type": "execute_result",
     "data": {
      "text/plain": [
       "  Gender   count\n",
       "0      M  174761\n",
       "1      F   79380\n",
       "2      U     117"
      ],
      "text/html": "<div>\n<style scoped>\n    .dataframe tbody tr th:only-of-type {\n        vertical-align: middle;\n    }\n\n    .dataframe tbody tr th {\n        vertical-align: top;\n    }\n\n    .dataframe thead th {\n        text-align: right;\n    }\n</style>\n<table border=\"1\" class=\"dataframe\">\n  <thead>\n    <tr style=\"text-align: right;\">\n      <th></th>\n      <th>Gender</th>\n      <th>count</th>\n    </tr>\n  </thead>\n  <tbody>\n    <tr>\n      <th>0</th>\n      <td>M</td>\n      <td>174761</td>\n    </tr>\n    <tr>\n      <th>1</th>\n      <td>F</td>\n      <td>79380</td>\n    </tr>\n    <tr>\n      <th>2</th>\n      <td>U</td>\n      <td>117</td>\n    </tr>\n  </tbody>\n</table>\n</div>"
     },
     "metadata": {},
     "execution_count": 7
    }
   ],
   "source": [
    "gender = data.value_counts(['Gender']).reset_index(name='count')\n",
    "gender"
   ]
  },
  {
   "cell_type": "code",
   "execution_count": 67,
   "metadata": {},
   "outputs": [
    {
     "output_type": "execute_result",
     "data": {
      "text/plain": [
       "              Race  count\n",
       "0            WHITE  89583\n",
       "1            BLACK  79437\n",
       "2         HISPANIC  58224\n",
       "3            ASIAN  13531\n",
       "4            OTHER  13055\n",
       "5  NATIVE AMERICAN    428"
      ],
      "text/html": "<div>\n<style scoped>\n    .dataframe tbody tr th:only-of-type {\n        vertical-align: middle;\n    }\n\n    .dataframe tbody tr th {\n        vertical-align: top;\n    }\n\n    .dataframe thead th {\n        text-align: right;\n    }\n</style>\n<table border=\"1\" class=\"dataframe\">\n  <thead>\n    <tr style=\"text-align: right;\">\n      <th></th>\n      <th>Race</th>\n      <th>count</th>\n    </tr>\n  </thead>\n  <tbody>\n    <tr>\n      <th>0</th>\n      <td>WHITE</td>\n      <td>89583</td>\n    </tr>\n    <tr>\n      <th>1</th>\n      <td>BLACK</td>\n      <td>79437</td>\n    </tr>\n    <tr>\n      <th>2</th>\n      <td>HISPANIC</td>\n      <td>58224</td>\n    </tr>\n    <tr>\n      <th>3</th>\n      <td>ASIAN</td>\n      <td>13531</td>\n    </tr>\n    <tr>\n      <th>4</th>\n      <td>OTHER</td>\n      <td>13055</td>\n    </tr>\n    <tr>\n      <th>5</th>\n      <td>NATIVE AMERICAN</td>\n      <td>428</td>\n    </tr>\n  </tbody>\n</table>\n</div>"
     },
     "metadata": {},
     "execution_count": 67
    }
   ],
   "source": [
    "race = data.value_counts(['Race']).reset_index(name='count')\n",
    "race"
   ]
  },
  {
   "cell_type": "code",
   "execution_count": 68,
   "metadata": {},
   "outputs": [
    {
     "output_type": "execute_result",
     "data": {
      "text/plain": [
       "                Model  count\n",
       "0                  4S  27217\n",
       "1                  TK  16260\n",
       "2              ACCORD   9363\n",
       "3               CIVIC   8829\n",
       "4               CAMRY   7818\n",
       "...               ...    ...\n",
       "6324  E-350 SUPER DUT      1\n",
       "6325      E-350 - VAN      1\n",
       "6326        E-250 VAN      1\n",
       "6327              SRV      1\n",
       "6328              `TC      1\n",
       "\n",
       "[6329 rows x 2 columns]"
      ],
      "text/html": "<div>\n<style scoped>\n    .dataframe tbody tr th:only-of-type {\n        vertical-align: middle;\n    }\n\n    .dataframe tbody tr th {\n        vertical-align: top;\n    }\n\n    .dataframe thead th {\n        text-align: right;\n    }\n</style>\n<table border=\"1\" class=\"dataframe\">\n  <thead>\n    <tr style=\"text-align: right;\">\n      <th></th>\n      <th>Model</th>\n      <th>count</th>\n    </tr>\n  </thead>\n  <tbody>\n    <tr>\n      <th>0</th>\n      <td>4S</td>\n      <td>27217</td>\n    </tr>\n    <tr>\n      <th>1</th>\n      <td>TK</td>\n      <td>16260</td>\n    </tr>\n    <tr>\n      <th>2</th>\n      <td>ACCORD</td>\n      <td>9363</td>\n    </tr>\n    <tr>\n      <th>3</th>\n      <td>CIVIC</td>\n      <td>8829</td>\n    </tr>\n    <tr>\n      <th>4</th>\n      <td>CAMRY</td>\n      <td>7818</td>\n    </tr>\n    <tr>\n      <th>...</th>\n      <td>...</td>\n      <td>...</td>\n    </tr>\n    <tr>\n      <th>6324</th>\n      <td>E-350 SUPER DUT</td>\n      <td>1</td>\n    </tr>\n    <tr>\n      <th>6325</th>\n      <td>E-350 - VAN</td>\n      <td>1</td>\n    </tr>\n    <tr>\n      <th>6326</th>\n      <td>E-250 VAN</td>\n      <td>1</td>\n    </tr>\n    <tr>\n      <th>6327</th>\n      <td>SRV</td>\n      <td>1</td>\n    </tr>\n    <tr>\n      <th>6328</th>\n      <td>`TC</td>\n      <td>1</td>\n    </tr>\n  </tbody>\n</table>\n<p>6329 rows × 2 columns</p>\n</div>"
     },
     "metadata": {},
     "execution_count": 68
    }
   ],
   "source": [
    "model = data.value_counts(['Model']).reset_index(name='count')\n",
    "model"
   ]
  },
  {
   "cell_type": "code",
   "execution_count": 71,
   "metadata": {},
   "outputs": [
    {
     "output_type": "execute_result",
     "data": {
      "text/plain": [
       "         Make  count\n",
       "0       HONDA  27738\n",
       "1      TOYOTA  27619\n",
       "2        FORD  24727\n",
       "3      NISSAN  13887\n",
       "4        TOYT  13176\n",
       "5        HOND   8829\n",
       "6        CHEV   7588\n",
       "7       DODGE   7224\n",
       "8         BMW   7215\n",
       "9       CHEVY   6385\n",
       "10  CHEVROLET   5901\n",
       "11      ACURA   5883\n",
       "12       JEEP   5716\n",
       "13       NISS   5437\n",
       "14    HYUNDAI   4822\n",
       "15      LEXUS   3927\n",
       "16      MAZDA   3775\n",
       "17       MERZ   3657\n",
       "18        GMC   3460\n",
       "19        KIA   3377"
      ],
      "text/html": "<div>\n<style scoped>\n    .dataframe tbody tr th:only-of-type {\n        vertical-align: middle;\n    }\n\n    .dataframe tbody tr th {\n        vertical-align: top;\n    }\n\n    .dataframe thead th {\n        text-align: right;\n    }\n</style>\n<table border=\"1\" class=\"dataframe\">\n  <thead>\n    <tr style=\"text-align: right;\">\n      <th></th>\n      <th>Make</th>\n      <th>count</th>\n    </tr>\n  </thead>\n  <tbody>\n    <tr>\n      <th>0</th>\n      <td>HONDA</td>\n      <td>27738</td>\n    </tr>\n    <tr>\n      <th>1</th>\n      <td>TOYOTA</td>\n      <td>27619</td>\n    </tr>\n    <tr>\n      <th>2</th>\n      <td>FORD</td>\n      <td>24727</td>\n    </tr>\n    <tr>\n      <th>3</th>\n      <td>NISSAN</td>\n      <td>13887</td>\n    </tr>\n    <tr>\n      <th>4</th>\n      <td>TOYT</td>\n      <td>13176</td>\n    </tr>\n    <tr>\n      <th>5</th>\n      <td>HOND</td>\n      <td>8829</td>\n    </tr>\n    <tr>\n      <th>6</th>\n      <td>CHEV</td>\n      <td>7588</td>\n    </tr>\n    <tr>\n      <th>7</th>\n      <td>DODGE</td>\n      <td>7224</td>\n    </tr>\n    <tr>\n      <th>8</th>\n      <td>BMW</td>\n      <td>7215</td>\n    </tr>\n    <tr>\n      <th>9</th>\n      <td>CHEVY</td>\n      <td>6385</td>\n    </tr>\n    <tr>\n      <th>10</th>\n      <td>CHEVROLET</td>\n      <td>5901</td>\n    </tr>\n    <tr>\n      <th>11</th>\n      <td>ACURA</td>\n      <td>5883</td>\n    </tr>\n    <tr>\n      <th>12</th>\n      <td>JEEP</td>\n      <td>5716</td>\n    </tr>\n    <tr>\n      <th>13</th>\n      <td>NISS</td>\n      <td>5437</td>\n    </tr>\n    <tr>\n      <th>14</th>\n      <td>HYUNDAI</td>\n      <td>4822</td>\n    </tr>\n    <tr>\n      <th>15</th>\n      <td>LEXUS</td>\n      <td>3927</td>\n    </tr>\n    <tr>\n      <th>16</th>\n      <td>MAZDA</td>\n      <td>3775</td>\n    </tr>\n    <tr>\n      <th>17</th>\n      <td>MERZ</td>\n      <td>3657</td>\n    </tr>\n    <tr>\n      <th>18</th>\n      <td>GMC</td>\n      <td>3460</td>\n    </tr>\n    <tr>\n      <th>19</th>\n      <td>KIA</td>\n      <td>3377</td>\n    </tr>\n  </tbody>\n</table>\n</div>"
     },
     "metadata": {},
     "execution_count": 71
    }
   ],
   "source": [
    "make = data.value_counts(['Make']).reset_index(name='count')\n",
    "make.head(20)"
   ]
  },
  {
   "cell_type": "code",
   "execution_count": 72,
   "metadata": {},
   "outputs": [
    {
     "output_type": "execute_result",
     "data": {
      "text/plain": [
       "      Year  count\n",
       "0   2006.0  15680\n",
       "1   2007.0  15438\n",
       "2   2005.0  14827\n",
       "3   2004.0  14616\n",
       "4   2003.0  14321\n",
       "5   2012.0  14152\n",
       "6   2013.0  14017\n",
       "7   2008.0  13887\n",
       "8   2011.0  13273\n",
       "9   2002.0  12798\n",
       "10  2010.0  12355\n",
       "11  2014.0  11720\n",
       "12  2015.0  11160\n",
       "13  2000.0  11066\n",
       "14  2001.0  11000\n",
       "15  2009.0  10614\n",
       "16  1999.0   8123\n",
       "17  2016.0   6828\n",
       "18  1998.0   6242\n",
       "19  1997.0   5101"
      ],
      "text/html": "<div>\n<style scoped>\n    .dataframe tbody tr th:only-of-type {\n        vertical-align: middle;\n    }\n\n    .dataframe tbody tr th {\n        vertical-align: top;\n    }\n\n    .dataframe thead th {\n        text-align: right;\n    }\n</style>\n<table border=\"1\" class=\"dataframe\">\n  <thead>\n    <tr style=\"text-align: right;\">\n      <th></th>\n      <th>Year</th>\n      <th>count</th>\n    </tr>\n  </thead>\n  <tbody>\n    <tr>\n      <th>0</th>\n      <td>2006.0</td>\n      <td>15680</td>\n    </tr>\n    <tr>\n      <th>1</th>\n      <td>2007.0</td>\n      <td>15438</td>\n    </tr>\n    <tr>\n      <th>2</th>\n      <td>2005.0</td>\n      <td>14827</td>\n    </tr>\n    <tr>\n      <th>3</th>\n      <td>2004.0</td>\n      <td>14616</td>\n    </tr>\n    <tr>\n      <th>4</th>\n      <td>2003.0</td>\n      <td>14321</td>\n    </tr>\n    <tr>\n      <th>5</th>\n      <td>2012.0</td>\n      <td>14152</td>\n    </tr>\n    <tr>\n      <th>6</th>\n      <td>2013.0</td>\n      <td>14017</td>\n    </tr>\n    <tr>\n      <th>7</th>\n      <td>2008.0</td>\n      <td>13887</td>\n    </tr>\n    <tr>\n      <th>8</th>\n      <td>2011.0</td>\n      <td>13273</td>\n    </tr>\n    <tr>\n      <th>9</th>\n      <td>2002.0</td>\n      <td>12798</td>\n    </tr>\n    <tr>\n      <th>10</th>\n      <td>2010.0</td>\n      <td>12355</td>\n    </tr>\n    <tr>\n      <th>11</th>\n      <td>2014.0</td>\n      <td>11720</td>\n    </tr>\n    <tr>\n      <th>12</th>\n      <td>2015.0</td>\n      <td>11160</td>\n    </tr>\n    <tr>\n      <th>13</th>\n      <td>2000.0</td>\n      <td>11066</td>\n    </tr>\n    <tr>\n      <th>14</th>\n      <td>2001.0</td>\n      <td>11000</td>\n    </tr>\n    <tr>\n      <th>15</th>\n      <td>2009.0</td>\n      <td>10614</td>\n    </tr>\n    <tr>\n      <th>16</th>\n      <td>1999.0</td>\n      <td>8123</td>\n    </tr>\n    <tr>\n      <th>17</th>\n      <td>2016.0</td>\n      <td>6828</td>\n    </tr>\n    <tr>\n      <th>18</th>\n      <td>1998.0</td>\n      <td>6242</td>\n    </tr>\n    <tr>\n      <th>19</th>\n      <td>1997.0</td>\n      <td>5101</td>\n    </tr>\n  </tbody>\n</table>\n</div>"
     },
     "metadata": {},
     "execution_count": 72
    }
   ],
   "source": [
    "year = data.value_counts(['Year']).reset_index(name='count')\n",
    "year.head(20)"
   ]
  },
  {
   "cell_type": "code",
   "execution_count": 73,
   "metadata": {},
   "outputs": [
    {
     "output_type": "execute_result",
     "data": {
      "text/plain": [
       "          Color  count\n",
       "0         BLACK  51149\n",
       "1        SILVER  45446\n",
       "2         WHITE  40100\n",
       "3          GRAY  27662\n",
       "4           RED  20078\n",
       "5          BLUE  18482\n",
       "6         GREEN   9091\n",
       "7          GOLD   8530\n",
       "8    BLUE, DARK   5631\n",
       "9           TAN   5055\n",
       "10       MAROON   4497\n",
       "11  BLUE, LIGHT   3470\n",
       "12        BEIGE   2761\n",
       "13    GREEN, DK   2727\n",
       "14   GREEN, LGT   1429\n",
       "15        BROWN   1275\n",
       "16       YELLOW    944\n",
       "17       ORANGE    724\n",
       "18       BRONZE    588\n",
       "19       PURPLE    525\n",
       "20   MULTICOLOR    242\n",
       "21        CREAM    183\n",
       "22       COPPER     81\n",
       "23         PINK     15\n",
       "24   CAMOUFLAGE      4\n",
       "25       CHROME      2"
      ],
      "text/html": "<div>\n<style scoped>\n    .dataframe tbody tr th:only-of-type {\n        vertical-align: middle;\n    }\n\n    .dataframe tbody tr th {\n        vertical-align: top;\n    }\n\n    .dataframe thead th {\n        text-align: right;\n    }\n</style>\n<table border=\"1\" class=\"dataframe\">\n  <thead>\n    <tr style=\"text-align: right;\">\n      <th></th>\n      <th>Color</th>\n      <th>count</th>\n    </tr>\n  </thead>\n  <tbody>\n    <tr>\n      <th>0</th>\n      <td>BLACK</td>\n      <td>51149</td>\n    </tr>\n    <tr>\n      <th>1</th>\n      <td>SILVER</td>\n      <td>45446</td>\n    </tr>\n    <tr>\n      <th>2</th>\n      <td>WHITE</td>\n      <td>40100</td>\n    </tr>\n    <tr>\n      <th>3</th>\n      <td>GRAY</td>\n      <td>27662</td>\n    </tr>\n    <tr>\n      <th>4</th>\n      <td>RED</td>\n      <td>20078</td>\n    </tr>\n    <tr>\n      <th>5</th>\n      <td>BLUE</td>\n      <td>18482</td>\n    </tr>\n    <tr>\n      <th>6</th>\n      <td>GREEN</td>\n      <td>9091</td>\n    </tr>\n    <tr>\n      <th>7</th>\n      <td>GOLD</td>\n      <td>8530</td>\n    </tr>\n    <tr>\n      <th>8</th>\n      <td>BLUE, DARK</td>\n      <td>5631</td>\n    </tr>\n    <tr>\n      <th>9</th>\n      <td>TAN</td>\n      <td>5055</td>\n    </tr>\n    <tr>\n      <th>10</th>\n      <td>MAROON</td>\n      <td>4497</td>\n    </tr>\n    <tr>\n      <th>11</th>\n      <td>BLUE, LIGHT</td>\n      <td>3470</td>\n    </tr>\n    <tr>\n      <th>12</th>\n      <td>BEIGE</td>\n      <td>2761</td>\n    </tr>\n    <tr>\n      <th>13</th>\n      <td>GREEN, DK</td>\n      <td>2727</td>\n    </tr>\n    <tr>\n      <th>14</th>\n      <td>GREEN, LGT</td>\n      <td>1429</td>\n    </tr>\n    <tr>\n      <th>15</th>\n      <td>BROWN</td>\n      <td>1275</td>\n    </tr>\n    <tr>\n      <th>16</th>\n      <td>YELLOW</td>\n      <td>944</td>\n    </tr>\n    <tr>\n      <th>17</th>\n      <td>ORANGE</td>\n      <td>724</td>\n    </tr>\n    <tr>\n      <th>18</th>\n      <td>BRONZE</td>\n      <td>588</td>\n    </tr>\n    <tr>\n      <th>19</th>\n      <td>PURPLE</td>\n      <td>525</td>\n    </tr>\n    <tr>\n      <th>20</th>\n      <td>MULTICOLOR</td>\n      <td>242</td>\n    </tr>\n    <tr>\n      <th>21</th>\n      <td>CREAM</td>\n      <td>183</td>\n    </tr>\n    <tr>\n      <th>22</th>\n      <td>COPPER</td>\n      <td>81</td>\n    </tr>\n    <tr>\n      <th>23</th>\n      <td>PINK</td>\n      <td>15</td>\n    </tr>\n    <tr>\n      <th>24</th>\n      <td>CAMOUFLAGE</td>\n      <td>4</td>\n    </tr>\n    <tr>\n      <th>25</th>\n      <td>CHROME</td>\n      <td>2</td>\n    </tr>\n  </tbody>\n</table>\n</div>"
     },
     "metadata": {},
     "execution_count": 73
    }
   ],
   "source": [
    "color = data.value_counts(['Color']).reset_index(name='count')\n",
    "color"
   ]
  },
  {
   "cell_type": "code",
   "execution_count": 77,
   "metadata": {},
   "outputs": [
    {
     "output_type": "execute_result",
     "data": {
      "text/plain": [
       "   time_data  count\n",
       "0         23  17587\n",
       "1         22  16862\n",
       "2         08  15369\n",
       "3         00  14616\n",
       "4         01  12847\n",
       "5         09  12671\n",
       "6         16  12398\n",
       "7         21  12173\n",
       "8         10  12044\n",
       "9         17  11990\n",
       "10        02  10698\n",
       "11        14  10614\n",
       "12        11  10429\n",
       "13        07  10157\n",
       "14        13   9979\n",
       "15        15   9671\n",
       "16        12   9632\n",
       "17        18   9097\n",
       "18        20   8851\n",
       "19        19   8120\n",
       "20        03   7147\n",
       "21        06   4564\n",
       "22        04   4254\n",
       "23        05   2488"
      ],
      "text/html": "<div>\n<style scoped>\n    .dataframe tbody tr th:only-of-type {\n        vertical-align: middle;\n    }\n\n    .dataframe tbody tr th {\n        vertical-align: top;\n    }\n\n    .dataframe thead th {\n        text-align: right;\n    }\n</style>\n<table border=\"1\" class=\"dataframe\">\n  <thead>\n    <tr style=\"text-align: right;\">\n      <th></th>\n      <th>time_data</th>\n      <th>count</th>\n    </tr>\n  </thead>\n  <tbody>\n    <tr>\n      <th>0</th>\n      <td>23</td>\n      <td>17587</td>\n    </tr>\n    <tr>\n      <th>1</th>\n      <td>22</td>\n      <td>16862</td>\n    </tr>\n    <tr>\n      <th>2</th>\n      <td>08</td>\n      <td>15369</td>\n    </tr>\n    <tr>\n      <th>3</th>\n      <td>00</td>\n      <td>14616</td>\n    </tr>\n    <tr>\n      <th>4</th>\n      <td>01</td>\n      <td>12847</td>\n    </tr>\n    <tr>\n      <th>5</th>\n      <td>09</td>\n      <td>12671</td>\n    </tr>\n    <tr>\n      <th>6</th>\n      <td>16</td>\n      <td>12398</td>\n    </tr>\n    <tr>\n      <th>7</th>\n      <td>21</td>\n      <td>12173</td>\n    </tr>\n    <tr>\n      <th>8</th>\n      <td>10</td>\n      <td>12044</td>\n    </tr>\n    <tr>\n      <th>9</th>\n      <td>17</td>\n      <td>11990</td>\n    </tr>\n    <tr>\n      <th>10</th>\n      <td>02</td>\n      <td>10698</td>\n    </tr>\n    <tr>\n      <th>11</th>\n      <td>14</td>\n      <td>10614</td>\n    </tr>\n    <tr>\n      <th>12</th>\n      <td>11</td>\n      <td>10429</td>\n    </tr>\n    <tr>\n      <th>13</th>\n      <td>07</td>\n      <td>10157</td>\n    </tr>\n    <tr>\n      <th>14</th>\n      <td>13</td>\n      <td>9979</td>\n    </tr>\n    <tr>\n      <th>15</th>\n      <td>15</td>\n      <td>9671</td>\n    </tr>\n    <tr>\n      <th>16</th>\n      <td>12</td>\n      <td>9632</td>\n    </tr>\n    <tr>\n      <th>17</th>\n      <td>18</td>\n      <td>9097</td>\n    </tr>\n    <tr>\n      <th>18</th>\n      <td>20</td>\n      <td>8851</td>\n    </tr>\n    <tr>\n      <th>19</th>\n      <td>19</td>\n      <td>8120</td>\n    </tr>\n    <tr>\n      <th>20</th>\n      <td>03</td>\n      <td>7147</td>\n    </tr>\n    <tr>\n      <th>21</th>\n      <td>06</td>\n      <td>4564</td>\n    </tr>\n    <tr>\n      <th>22</th>\n      <td>04</td>\n      <td>4254</td>\n    </tr>\n    <tr>\n      <th>23</th>\n      <td>05</td>\n      <td>2488</td>\n    </tr>\n  </tbody>\n</table>\n</div>"
     },
     "metadata": {},
     "execution_count": 77
    }
   ],
   "source": [
    "data['time_data'] = data['Time Of Stop'].apply(lambda x: x.split(\":\")[0]) #data['Time Of Stop']\n",
    "time = data.value_counts(['time_data']).reset_index(name='count')\n",
    "time"
   ]
  },
  {
   "cell_type": "code",
   "execution_count": 78,
   "metadata": {},
   "outputs": [
    {
     "output_type": "execute_result",
     "data": {
      "text/plain": [
       "   month  count\n",
       "0     05  27793\n",
       "1     04  27746\n",
       "2     06  26522\n",
       "3     10  26353\n",
       "4     08  25112\n",
       "5     09  24677\n",
       "6     07  24001\n",
       "7     11  22758\n",
       "8     03  17728\n",
       "9     02  10766\n",
       "10    01  10728\n",
       "11    12  10074"
      ],
      "text/html": "<div>\n<style scoped>\n    .dataframe tbody tr th:only-of-type {\n        vertical-align: middle;\n    }\n\n    .dataframe tbody tr th {\n        vertical-align: top;\n    }\n\n    .dataframe thead th {\n        text-align: right;\n    }\n</style>\n<table border=\"1\" class=\"dataframe\">\n  <thead>\n    <tr style=\"text-align: right;\">\n      <th></th>\n      <th>month</th>\n      <th>count</th>\n    </tr>\n  </thead>\n  <tbody>\n    <tr>\n      <th>0</th>\n      <td>05</td>\n      <td>27793</td>\n    </tr>\n    <tr>\n      <th>1</th>\n      <td>04</td>\n      <td>27746</td>\n    </tr>\n    <tr>\n      <th>2</th>\n      <td>06</td>\n      <td>26522</td>\n    </tr>\n    <tr>\n      <th>3</th>\n      <td>10</td>\n      <td>26353</td>\n    </tr>\n    <tr>\n      <th>4</th>\n      <td>08</td>\n      <td>25112</td>\n    </tr>\n    <tr>\n      <th>5</th>\n      <td>09</td>\n      <td>24677</td>\n    </tr>\n    <tr>\n      <th>6</th>\n      <td>07</td>\n      <td>24001</td>\n    </tr>\n    <tr>\n      <th>7</th>\n      <td>11</td>\n      <td>22758</td>\n    </tr>\n    <tr>\n      <th>8</th>\n      <td>03</td>\n      <td>17728</td>\n    </tr>\n    <tr>\n      <th>9</th>\n      <td>02</td>\n      <td>10766</td>\n    </tr>\n    <tr>\n      <th>10</th>\n      <td>01</td>\n      <td>10728</td>\n    </tr>\n    <tr>\n      <th>11</th>\n      <td>12</td>\n      <td>10074</td>\n    </tr>\n  </tbody>\n</table>\n</div>"
     },
     "metadata": {},
     "execution_count": 78
    }
   ],
   "source": [
    "data['month'] = data['Date Of Stop'].apply(lambda x: x.split(\"/\")[0]) #data['Time Of Stop']\n",
    "month = data.value_counts(['month']).reset_index(name='count')\n",
    "month"
   ]
  },
  {
   "cell_type": "code",
   "execution_count": 11,
   "metadata": {},
   "outputs": [
    {
     "output_type": "execute_result",
     "data": {
      "text/plain": [
       "  Belts   Count\n",
       "0    No  243393\n",
       "1   Yes   10865"
      ],
      "text/html": "<div>\n<style scoped>\n    .dataframe tbody tr th:only-of-type {\n        vertical-align: middle;\n    }\n\n    .dataframe tbody tr th {\n        vertical-align: top;\n    }\n\n    .dataframe thead th {\n        text-align: right;\n    }\n</style>\n<table border=\"1\" class=\"dataframe\">\n  <thead>\n    <tr style=\"text-align: right;\">\n      <th></th>\n      <th>Belts</th>\n      <th>Count</th>\n    </tr>\n  </thead>\n  <tbody>\n    <tr>\n      <th>0</th>\n      <td>No</td>\n      <td>243393</td>\n    </tr>\n    <tr>\n      <th>1</th>\n      <td>Yes</td>\n      <td>10865</td>\n    </tr>\n  </tbody>\n</table>\n</div>"
     },
     "metadata": {},
     "execution_count": 11
    }
   ],
   "source": [
    "belts = data.value_counts(['Belts']).reset_index(name='Count')\n",
    "belts"
   ]
  },
  {
   "cell_type": "code",
   "execution_count": 36,
   "metadata": {},
   "outputs": [
    {
     "output_type": "stream",
     "name": "stdout",
     "text": [
      "Belts before: [ 1584 31888]\n",
      "Belts after: [  9281 211505]\n",
      "Adjusted belts after: [ 2320 52876]\n"
     ]
    }
   ],
   "source": [
    "np_belts_before = np.array([0,0])\n",
    "np_belts_after = np.array([0,0])\n",
    "\n",
    "from datetime import datetime\n",
    "seatbelt_law_date = datetime.strptime(\"08/01/2013\", \"%m/%d/%Y\")\n",
    "\n",
    "for index, item in data.iterrows():\n",
    "    if index % 100 == 0:\n",
    "        print(index, end=\"\\r\")\n",
    "    temp_date = datetime.strptime(item['Date Of Stop'], \"%m/%d/%Y\")\n",
    "    if temp_date.date() <= seatbelt_law_date.date(): # Before the law\n",
    "        if item.Belts.lower() == \"no\":\n",
    "            np_belts_before[1] += 1\n",
    "        else:\n",
    "            np_belts_before[0] += 1\n",
    "    else:\n",
    "        if item.Belts.lower() == \"no\":\n",
    "            np_belts_after[1] += 1\n",
    "        else:\n",
    "            np_belts_after[0] += 1\n",
    "print(f\"Belts before: {np_belts_before}\")\n",
    "print(f\"Belts after: {np_belts_after}\")\n",
    "\n",
    "np_belts_after_adjusted = np_belts_after\n",
    "np_belts_after_adjusted[0] = np_belts_after_adjusted[0] / 4\n",
    "np_belts_after_adjusted[1] = np_belts_after_adjusted[1] / 4\n",
    "\n",
    "print(f\"Adjusted belts after: {np_belts_after_adjusted}\")\n",
    "\n"
   ]
  },
  {
   "cell_type": "code",
   "execution_count": 35,
   "metadata": {},
   "outputs": [
    {
     "output_type": "stream",
     "name": "stdout",
     "text": [
      "([], [])\n"
     ]
    },
    {
     "output_type": "execute_result",
     "data": {
      "text/plain": [
       "<BarContainer object of 2 artists>"
      ]
     },
     "metadata": {},
     "execution_count": 35
    },
    {
     "output_type": "display_data",
     "data": {
      "text/plain": "<Figure size 432x288 with 1 Axes>",
      "image/svg+xml": "<?xml version=\"1.0\" encoding=\"utf-8\" standalone=\"no\"?>\r\n<!DOCTYPE svg PUBLIC \"-//W3C//DTD SVG 1.1//EN\"\r\n  \"http://www.w3.org/Graphics/SVG/1.1/DTD/svg11.dtd\">\r\n<!-- Created with matplotlib (https://matplotlib.org/) -->\r\n<svg height=\"620.75625pt\" version=\"1.1\" viewBox=\"0 0 1781.2125 620.75625\" width=\"1781.2125pt\" xmlns=\"http://www.w3.org/2000/svg\" xmlns:xlink=\"http://www.w3.org/1999/xlink\">\r\n <metadata>\r\n  <rdf:RDF xmlns:cc=\"http://creativecommons.org/ns#\" xmlns:dc=\"http://purl.org/dc/elements/1.1/\" xmlns:rdf=\"http://www.w3.org/1999/02/22-rdf-syntax-ns#\">\r\n   <cc:Work>\r\n    <dc:type rdf:resource=\"http://purl.org/dc/dcmitype/StillImage\"/>\r\n    <dc:date>2021-04-07T14:55:06.869306</dc:date>\r\n    <dc:format>image/svg+xml</dc:format>\r\n    <dc:creator>\r\n     <cc:Agent>\r\n      <dc:title>Matplotlib v3.3.3, https://matplotlib.org/</dc:title>\r\n     </cc:Agent>\r\n    </dc:creator>\r\n   </cc:Work>\r\n  </rdf:RDF>\r\n </metadata>\r\n <defs>\r\n  <style type=\"text/css\">*{stroke-linecap:butt;stroke-linejoin:round;}</style>\r\n </defs>\r\n <g id=\"figure_1\">\r\n  <g id=\"patch_1\">\r\n   <path d=\"M 0 620.75625 \r\nL 1781.2125 620.75625 \r\nL 1781.2125 0 \r\nL 0 0 \r\nz\r\n\" style=\"fill:none;\"/>\r\n  </g>\r\n  <g id=\"axes_1\">\r\n   <g id=\"patch_2\">\r\n    <path d=\"M 46.0125 583.2 \r\nL 1774.0125 583.2 \r\nL 1774.0125 7.2 \r\nL 46.0125 7.2 \r\nz\r\n\" style=\"fill:#ffffff;\"/>\r\n   </g>\r\n   <g id=\"patch_3\">\r\n    <path clip-path=\"url(#padb7547de4)\" d=\"M 124.557955 583.2 \r\nL 386.376136 583.2 \r\nL 386.376136 566.766511 \r\nL 124.557955 566.766511 \r\nz\r\n\" style=\"fill:#008000;\"/>\r\n   </g>\r\n   <g id=\"patch_4\">\r\n    <path clip-path=\"url(#padb7547de4)\" d=\"M 1171.830682 583.2 \r\nL 1433.648864 583.2 \r\nL 1433.648864 252.372295 \r\nL 1171.830682 252.372295 \r\nz\r\n\" style=\"fill:#008000;\"/>\r\n   </g>\r\n   <g id=\"patch_5\">\r\n    <path clip-path=\"url(#padb7547de4)\" d=\"M 386.376136 583.2 \r\nL 648.194318 583.2 \r\nL 648.194318 559.130749 \r\nL 386.376136 559.130749 \r\nz\r\n\" style=\"fill:#ff0000;\"/>\r\n   </g>\r\n   <g id=\"patch_6\">\r\n    <path clip-path=\"url(#padb7547de4)\" d=\"M 1433.648864 583.2 \r\nL 1695.467045 583.2 \r\nL 1695.467045 34.628571 \r\nL 1433.648864 34.628571 \r\nz\r\n\" style=\"fill:#ff0000;\"/>\r\n   </g>\r\n   <g id=\"matplotlib.axis_1\">\r\n    <g id=\"xtick_1\">\r\n     <g id=\"line2d_1\">\r\n      <defs>\r\n       <path d=\"M 0 0 \r\nL 0 3.5 \r\n\" id=\"m2dac63d5e6\" style=\"stroke:#000000;stroke-width:0.8;\"/>\r\n      </defs>\r\n      <g>\r\n       <use style=\"stroke:#000000;stroke-width:0.8;\" x=\"255.467045\" xlink:href=\"#m2dac63d5e6\" y=\"583.2\"/>\r\n      </g>\r\n     </g>\r\n     <g id=\"text_1\">\r\n      <!-- Before -->\r\n      <g transform=\"translate(239.120952 597.798437)scale(0.1 -0.1)\">\r\n       <defs>\r\n        <path d=\"M 19.671875 34.8125 \r\nL 19.671875 8.109375 \r\nL 35.5 8.109375 \r\nQ 43.453125 8.109375 47.28125 11.40625 \r\nQ 51.125 14.703125 51.125 21.484375 \r\nQ 51.125 28.328125 47.28125 31.5625 \r\nQ 43.453125 34.8125 35.5 34.8125 \r\nz\r\nM 19.671875 64.796875 \r\nL 19.671875 42.828125 \r\nL 34.28125 42.828125 \r\nQ 41.5 42.828125 45.03125 45.53125 \r\nQ 48.578125 48.25 48.578125 53.8125 \r\nQ 48.578125 59.328125 45.03125 62.0625 \r\nQ 41.5 64.796875 34.28125 64.796875 \r\nz\r\nM 9.8125 72.90625 \r\nL 35.015625 72.90625 \r\nQ 46.296875 72.90625 52.390625 68.21875 \r\nQ 58.5 63.53125 58.5 54.890625 \r\nQ 58.5 48.1875 55.375 44.234375 \r\nQ 52.25 40.28125 46.1875 39.3125 \r\nQ 53.46875 37.75 57.5 32.78125 \r\nQ 61.53125 27.828125 61.53125 20.40625 \r\nQ 61.53125 10.640625 54.890625 5.3125 \r\nQ 48.25 0 35.984375 0 \r\nL 9.8125 0 \r\nz\r\n\" id=\"DejaVuSans-66\"/>\r\n        <path d=\"M 56.203125 29.59375 \r\nL 56.203125 25.203125 \r\nL 14.890625 25.203125 \r\nQ 15.484375 15.921875 20.484375 11.0625 \r\nQ 25.484375 6.203125 34.421875 6.203125 \r\nQ 39.59375 6.203125 44.453125 7.46875 \r\nQ 49.3125 8.734375 54.109375 11.28125 \r\nL 54.109375 2.78125 \r\nQ 49.265625 0.734375 44.1875 -0.34375 \r\nQ 39.109375 -1.421875 33.890625 -1.421875 \r\nQ 20.796875 -1.421875 13.15625 6.1875 \r\nQ 5.515625 13.8125 5.515625 26.8125 \r\nQ 5.515625 40.234375 12.765625 48.109375 \r\nQ 20.015625 56 32.328125 56 \r\nQ 43.359375 56 49.78125 48.890625 \r\nQ 56.203125 41.796875 56.203125 29.59375 \r\nz\r\nM 47.21875 32.234375 \r\nQ 47.125 39.59375 43.09375 43.984375 \r\nQ 39.0625 48.390625 32.421875 48.390625 \r\nQ 24.90625 48.390625 20.390625 44.140625 \r\nQ 15.875 39.890625 15.1875 32.171875 \r\nz\r\n\" id=\"DejaVuSans-101\"/>\r\n        <path d=\"M 37.109375 75.984375 \r\nL 37.109375 68.5 \r\nL 28.515625 68.5 \r\nQ 23.6875 68.5 21.796875 66.546875 \r\nQ 19.921875 64.59375 19.921875 59.515625 \r\nL 19.921875 54.6875 \r\nL 34.71875 54.6875 \r\nL 34.71875 47.703125 \r\nL 19.921875 47.703125 \r\nL 19.921875 0 \r\nL 10.890625 0 \r\nL 10.890625 47.703125 \r\nL 2.296875 47.703125 \r\nL 2.296875 54.6875 \r\nL 10.890625 54.6875 \r\nL 10.890625 58.5 \r\nQ 10.890625 67.625 15.140625 71.796875 \r\nQ 19.390625 75.984375 28.609375 75.984375 \r\nz\r\n\" id=\"DejaVuSans-102\"/>\r\n        <path d=\"M 30.609375 48.390625 \r\nQ 23.390625 48.390625 19.1875 42.75 \r\nQ 14.984375 37.109375 14.984375 27.296875 \r\nQ 14.984375 17.484375 19.15625 11.84375 \r\nQ 23.34375 6.203125 30.609375 6.203125 \r\nQ 37.796875 6.203125 41.984375 11.859375 \r\nQ 46.1875 17.53125 46.1875 27.296875 \r\nQ 46.1875 37.015625 41.984375 42.703125 \r\nQ 37.796875 48.390625 30.609375 48.390625 \r\nz\r\nM 30.609375 56 \r\nQ 42.328125 56 49.015625 48.375 \r\nQ 55.71875 40.765625 55.71875 27.296875 \r\nQ 55.71875 13.875 49.015625 6.21875 \r\nQ 42.328125 -1.421875 30.609375 -1.421875 \r\nQ 18.84375 -1.421875 12.171875 6.21875 \r\nQ 5.515625 13.875 5.515625 27.296875 \r\nQ 5.515625 40.765625 12.171875 48.375 \r\nQ 18.84375 56 30.609375 56 \r\nz\r\n\" id=\"DejaVuSans-111\"/>\r\n        <path d=\"M 41.109375 46.296875 \r\nQ 39.59375 47.171875 37.8125 47.578125 \r\nQ 36.03125 48 33.890625 48 \r\nQ 26.265625 48 22.1875 43.046875 \r\nQ 18.109375 38.09375 18.109375 28.8125 \r\nL 18.109375 0 \r\nL 9.078125 0 \r\nL 9.078125 54.6875 \r\nL 18.109375 54.6875 \r\nL 18.109375 46.1875 \r\nQ 20.953125 51.171875 25.484375 53.578125 \r\nQ 30.03125 56 36.53125 56 \r\nQ 37.453125 56 38.578125 55.875 \r\nQ 39.703125 55.765625 41.0625 55.515625 \r\nz\r\n\" id=\"DejaVuSans-114\"/>\r\n       </defs>\r\n       <use xlink:href=\"#DejaVuSans-66\"/>\r\n       <use x=\"68.603516\" xlink:href=\"#DejaVuSans-101\"/>\r\n       <use x=\"130.126953\" xlink:href=\"#DejaVuSans-102\"/>\r\n       <use x=\"165.332031\" xlink:href=\"#DejaVuSans-111\"/>\r\n       <use x=\"226.513672\" xlink:href=\"#DejaVuSans-114\"/>\r\n       <use x=\"265.376953\" xlink:href=\"#DejaVuSans-101\"/>\r\n      </g>\r\n     </g>\r\n    </g>\r\n    <g id=\"xtick_2\">\r\n     <g id=\"line2d_2\">\r\n      <g>\r\n       <use style=\"stroke:#000000;stroke-width:0.8;\" x=\"1302.739773\" xlink:href=\"#m2dac63d5e6\" y=\"583.2\"/>\r\n      </g>\r\n     </g>\r\n     <g id=\"text_2\">\r\n      <!-- After -->\r\n      <g transform=\"translate(1290.735866 597.798437)scale(0.1 -0.1)\">\r\n       <defs>\r\n        <path d=\"M 34.1875 63.1875 \r\nL 20.796875 26.90625 \r\nL 47.609375 26.90625 \r\nz\r\nM 28.609375 72.90625 \r\nL 39.796875 72.90625 \r\nL 67.578125 0 \r\nL 57.328125 0 \r\nL 50.6875 18.703125 \r\nL 17.828125 18.703125 \r\nL 11.1875 0 \r\nL 0.78125 0 \r\nz\r\n\" id=\"DejaVuSans-65\"/>\r\n        <path d=\"M 18.3125 70.21875 \r\nL 18.3125 54.6875 \r\nL 36.8125 54.6875 \r\nL 36.8125 47.703125 \r\nL 18.3125 47.703125 \r\nL 18.3125 18.015625 \r\nQ 18.3125 11.328125 20.140625 9.421875 \r\nQ 21.96875 7.515625 27.59375 7.515625 \r\nL 36.8125 7.515625 \r\nL 36.8125 0 \r\nL 27.59375 0 \r\nQ 17.1875 0 13.234375 3.875 \r\nQ 9.28125 7.765625 9.28125 18.015625 \r\nL 9.28125 47.703125 \r\nL 2.6875 47.703125 \r\nL 2.6875 54.6875 \r\nL 9.28125 54.6875 \r\nL 9.28125 70.21875 \r\nz\r\n\" id=\"DejaVuSans-116\"/>\r\n       </defs>\r\n       <use xlink:href=\"#DejaVuSans-65\"/>\r\n       <use x=\"64.783203\" xlink:href=\"#DejaVuSans-102\"/>\r\n       <use x=\"98.238281\" xlink:href=\"#DejaVuSans-116\"/>\r\n       <use x=\"137.447266\" xlink:href=\"#DejaVuSans-101\"/>\r\n       <use x=\"198.970703\" xlink:href=\"#DejaVuSans-114\"/>\r\n      </g>\r\n     </g>\r\n    </g>\r\n    <g id=\"text_3\">\r\n     <!-- Seatbelt Law Passage -->\r\n     <g transform=\"translate(855.642188 611.476562)scale(0.1 -0.1)\">\r\n      <defs>\r\n       <path d=\"M 53.515625 70.515625 \r\nL 53.515625 60.890625 \r\nQ 47.90625 63.578125 42.921875 64.890625 \r\nQ 37.9375 66.21875 33.296875 66.21875 \r\nQ 25.25 66.21875 20.875 63.09375 \r\nQ 16.5 59.96875 16.5 54.203125 \r\nQ 16.5 49.359375 19.40625 46.890625 \r\nQ 22.3125 44.4375 30.421875 42.921875 \r\nL 36.375 41.703125 \r\nQ 47.40625 39.59375 52.65625 34.296875 \r\nQ 57.90625 29 57.90625 20.125 \r\nQ 57.90625 9.515625 50.796875 4.046875 \r\nQ 43.703125 -1.421875 29.984375 -1.421875 \r\nQ 24.8125 -1.421875 18.96875 -0.25 \r\nQ 13.140625 0.921875 6.890625 3.21875 \r\nL 6.890625 13.375 \r\nQ 12.890625 10.015625 18.65625 8.296875 \r\nQ 24.421875 6.59375 29.984375 6.59375 \r\nQ 38.421875 6.59375 43.015625 9.90625 \r\nQ 47.609375 13.234375 47.609375 19.390625 \r\nQ 47.609375 24.75 44.3125 27.78125 \r\nQ 41.015625 30.8125 33.5 32.328125 \r\nL 27.484375 33.5 \r\nQ 16.453125 35.6875 11.515625 40.375 \r\nQ 6.59375 45.0625 6.59375 53.421875 \r\nQ 6.59375 63.09375 13.40625 68.65625 \r\nQ 20.21875 74.21875 32.171875 74.21875 \r\nQ 37.3125 74.21875 42.625 73.28125 \r\nQ 47.953125 72.359375 53.515625 70.515625 \r\nz\r\n\" id=\"DejaVuSans-83\"/>\r\n       <path d=\"M 34.28125 27.484375 \r\nQ 23.390625 27.484375 19.1875 25 \r\nQ 14.984375 22.515625 14.984375 16.5 \r\nQ 14.984375 11.71875 18.140625 8.90625 \r\nQ 21.296875 6.109375 26.703125 6.109375 \r\nQ 34.1875 6.109375 38.703125 11.40625 \r\nQ 43.21875 16.703125 43.21875 25.484375 \r\nL 43.21875 27.484375 \r\nz\r\nM 52.203125 31.203125 \r\nL 52.203125 0 \r\nL 43.21875 0 \r\nL 43.21875 8.296875 \r\nQ 40.140625 3.328125 35.546875 0.953125 \r\nQ 30.953125 -1.421875 24.3125 -1.421875 \r\nQ 15.921875 -1.421875 10.953125 3.296875 \r\nQ 6 8.015625 6 15.921875 \r\nQ 6 25.140625 12.171875 29.828125 \r\nQ 18.359375 34.515625 30.609375 34.515625 \r\nL 43.21875 34.515625 \r\nL 43.21875 35.40625 \r\nQ 43.21875 41.609375 39.140625 45 \r\nQ 35.0625 48.390625 27.6875 48.390625 \r\nQ 23 48.390625 18.546875 47.265625 \r\nQ 14.109375 46.140625 10.015625 43.890625 \r\nL 10.015625 52.203125 \r\nQ 14.9375 54.109375 19.578125 55.046875 \r\nQ 24.21875 56 28.609375 56 \r\nQ 40.484375 56 46.34375 49.84375 \r\nQ 52.203125 43.703125 52.203125 31.203125 \r\nz\r\n\" id=\"DejaVuSans-97\"/>\r\n       <path d=\"M 48.6875 27.296875 \r\nQ 48.6875 37.203125 44.609375 42.84375 \r\nQ 40.53125 48.484375 33.40625 48.484375 \r\nQ 26.265625 48.484375 22.1875 42.84375 \r\nQ 18.109375 37.203125 18.109375 27.296875 \r\nQ 18.109375 17.390625 22.1875 11.75 \r\nQ 26.265625 6.109375 33.40625 6.109375 \r\nQ 40.53125 6.109375 44.609375 11.75 \r\nQ 48.6875 17.390625 48.6875 27.296875 \r\nz\r\nM 18.109375 46.390625 \r\nQ 20.953125 51.265625 25.265625 53.625 \r\nQ 29.59375 56 35.59375 56 \r\nQ 45.5625 56 51.78125 48.09375 \r\nQ 58.015625 40.1875 58.015625 27.296875 \r\nQ 58.015625 14.40625 51.78125 6.484375 \r\nQ 45.5625 -1.421875 35.59375 -1.421875 \r\nQ 29.59375 -1.421875 25.265625 0.953125 \r\nQ 20.953125 3.328125 18.109375 8.203125 \r\nL 18.109375 0 \r\nL 9.078125 0 \r\nL 9.078125 75.984375 \r\nL 18.109375 75.984375 \r\nz\r\n\" id=\"DejaVuSans-98\"/>\r\n       <path d=\"M 9.421875 75.984375 \r\nL 18.40625 75.984375 \r\nL 18.40625 0 \r\nL 9.421875 0 \r\nz\r\n\" id=\"DejaVuSans-108\"/>\r\n       <path id=\"DejaVuSans-32\"/>\r\n       <path d=\"M 9.8125 72.90625 \r\nL 19.671875 72.90625 \r\nL 19.671875 8.296875 \r\nL 55.171875 8.296875 \r\nL 55.171875 0 \r\nL 9.8125 0 \r\nz\r\n\" id=\"DejaVuSans-76\"/>\r\n       <path d=\"M 4.203125 54.6875 \r\nL 13.1875 54.6875 \r\nL 24.421875 12.015625 \r\nL 35.59375 54.6875 \r\nL 46.1875 54.6875 \r\nL 57.421875 12.015625 \r\nL 68.609375 54.6875 \r\nL 77.59375 54.6875 \r\nL 63.28125 0 \r\nL 52.6875 0 \r\nL 40.921875 44.828125 \r\nL 29.109375 0 \r\nL 18.5 0 \r\nz\r\n\" id=\"DejaVuSans-119\"/>\r\n       <path d=\"M 19.671875 64.796875 \r\nL 19.671875 37.40625 \r\nL 32.078125 37.40625 \r\nQ 38.96875 37.40625 42.71875 40.96875 \r\nQ 46.484375 44.53125 46.484375 51.125 \r\nQ 46.484375 57.671875 42.71875 61.234375 \r\nQ 38.96875 64.796875 32.078125 64.796875 \r\nz\r\nM 9.8125 72.90625 \r\nL 32.078125 72.90625 \r\nQ 44.34375 72.90625 50.609375 67.359375 \r\nQ 56.890625 61.8125 56.890625 51.125 \r\nQ 56.890625 40.328125 50.609375 34.8125 \r\nQ 44.34375 29.296875 32.078125 29.296875 \r\nL 19.671875 29.296875 \r\nL 19.671875 0 \r\nL 9.8125 0 \r\nz\r\n\" id=\"DejaVuSans-80\"/>\r\n       <path d=\"M 44.28125 53.078125 \r\nL 44.28125 44.578125 \r\nQ 40.484375 46.53125 36.375 47.5 \r\nQ 32.28125 48.484375 27.875 48.484375 \r\nQ 21.1875 48.484375 17.84375 46.4375 \r\nQ 14.5 44.390625 14.5 40.28125 \r\nQ 14.5 37.15625 16.890625 35.375 \r\nQ 19.28125 33.59375 26.515625 31.984375 \r\nL 29.59375 31.296875 \r\nQ 39.15625 29.25 43.1875 25.515625 \r\nQ 47.21875 21.78125 47.21875 15.09375 \r\nQ 47.21875 7.46875 41.1875 3.015625 \r\nQ 35.15625 -1.421875 24.609375 -1.421875 \r\nQ 20.21875 -1.421875 15.453125 -0.5625 \r\nQ 10.6875 0.296875 5.421875 2 \r\nL 5.421875 11.28125 \r\nQ 10.40625 8.6875 15.234375 7.390625 \r\nQ 20.0625 6.109375 24.8125 6.109375 \r\nQ 31.15625 6.109375 34.5625 8.28125 \r\nQ 37.984375 10.453125 37.984375 14.40625 \r\nQ 37.984375 18.0625 35.515625 20.015625 \r\nQ 33.0625 21.96875 24.703125 23.78125 \r\nL 21.578125 24.515625 \r\nQ 13.234375 26.265625 9.515625 29.90625 \r\nQ 5.8125 33.546875 5.8125 39.890625 \r\nQ 5.8125 47.609375 11.28125 51.796875 \r\nQ 16.75 56 26.8125 56 \r\nQ 31.78125 56 36.171875 55.265625 \r\nQ 40.578125 54.546875 44.28125 53.078125 \r\nz\r\n\" id=\"DejaVuSans-115\"/>\r\n       <path d=\"M 45.40625 27.984375 \r\nQ 45.40625 37.75 41.375 43.109375 \r\nQ 37.359375 48.484375 30.078125 48.484375 \r\nQ 22.859375 48.484375 18.828125 43.109375 \r\nQ 14.796875 37.75 14.796875 27.984375 \r\nQ 14.796875 18.265625 18.828125 12.890625 \r\nQ 22.859375 7.515625 30.078125 7.515625 \r\nQ 37.359375 7.515625 41.375 12.890625 \r\nQ 45.40625 18.265625 45.40625 27.984375 \r\nz\r\nM 54.390625 6.78125 \r\nQ 54.390625 -7.171875 48.1875 -13.984375 \r\nQ 42 -20.796875 29.203125 -20.796875 \r\nQ 24.46875 -20.796875 20.265625 -20.09375 \r\nQ 16.0625 -19.390625 12.109375 -17.921875 \r\nL 12.109375 -9.1875 \r\nQ 16.0625 -11.328125 19.921875 -12.34375 \r\nQ 23.78125 -13.375 27.78125 -13.375 \r\nQ 36.625 -13.375 41.015625 -8.765625 \r\nQ 45.40625 -4.15625 45.40625 5.171875 \r\nL 45.40625 9.625 \r\nQ 42.625 4.78125 38.28125 2.390625 \r\nQ 33.9375 0 27.875 0 \r\nQ 17.828125 0 11.671875 7.65625 \r\nQ 5.515625 15.328125 5.515625 27.984375 \r\nQ 5.515625 40.671875 11.671875 48.328125 \r\nQ 17.828125 56 27.875 56 \r\nQ 33.9375 56 38.28125 53.609375 \r\nQ 42.625 51.21875 45.40625 46.390625 \r\nL 45.40625 54.6875 \r\nL 54.390625 54.6875 \r\nz\r\n\" id=\"DejaVuSans-103\"/>\r\n      </defs>\r\n      <use xlink:href=\"#DejaVuSans-83\"/>\r\n      <use x=\"63.476562\" xlink:href=\"#DejaVuSans-101\"/>\r\n      <use x=\"125\" xlink:href=\"#DejaVuSans-97\"/>\r\n      <use x=\"186.279297\" xlink:href=\"#DejaVuSans-116\"/>\r\n      <use x=\"225.488281\" xlink:href=\"#DejaVuSans-98\"/>\r\n      <use x=\"288.964844\" xlink:href=\"#DejaVuSans-101\"/>\r\n      <use x=\"350.488281\" xlink:href=\"#DejaVuSans-108\"/>\r\n      <use x=\"378.271484\" xlink:href=\"#DejaVuSans-116\"/>\r\n      <use x=\"417.480469\" xlink:href=\"#DejaVuSans-32\"/>\r\n      <use x=\"449.267578\" xlink:href=\"#DejaVuSans-76\"/>\r\n      <use x=\"504.980469\" xlink:href=\"#DejaVuSans-97\"/>\r\n      <use x=\"566.259766\" xlink:href=\"#DejaVuSans-119\"/>\r\n      <use x=\"648.046875\" xlink:href=\"#DejaVuSans-32\"/>\r\n      <use x=\"679.833984\" xlink:href=\"#DejaVuSans-80\"/>\r\n      <use x=\"735.636719\" xlink:href=\"#DejaVuSans-97\"/>\r\n      <use x=\"796.916016\" xlink:href=\"#DejaVuSans-115\"/>\r\n      <use x=\"849.015625\" xlink:href=\"#DejaVuSans-115\"/>\r\n      <use x=\"901.115234\" xlink:href=\"#DejaVuSans-97\"/>\r\n      <use x=\"962.394531\" xlink:href=\"#DejaVuSans-103\"/>\r\n      <use x=\"1025.871094\" xlink:href=\"#DejaVuSans-101\"/>\r\n     </g>\r\n    </g>\r\n   </g>\r\n   <g id=\"matplotlib.axis_2\">\r\n    <g id=\"ytick_1\">\r\n     <g id=\"line2d_3\">\r\n      <defs>\r\n       <path d=\"M 0 0 \r\nL -3.5 0 \r\n\" id=\"mdd0d88c696\" style=\"stroke:#000000;stroke-width:0.8;\"/>\r\n      </defs>\r\n      <g>\r\n       <use style=\"stroke:#000000;stroke-width:0.8;\" x=\"46.0125\" xlink:href=\"#mdd0d88c696\" y=\"583.2\"/>\r\n      </g>\r\n     </g>\r\n     <g id=\"text_4\">\r\n      <!-- 0 -->\r\n      <g transform=\"translate(32.65 586.999219)scale(0.1 -0.1)\">\r\n       <defs>\r\n        <path d=\"M 31.78125 66.40625 \r\nQ 24.171875 66.40625 20.328125 58.90625 \r\nQ 16.5 51.421875 16.5 36.375 \r\nQ 16.5 21.390625 20.328125 13.890625 \r\nQ 24.171875 6.390625 31.78125 6.390625 \r\nQ 39.453125 6.390625 43.28125 13.890625 \r\nQ 47.125 21.390625 47.125 36.375 \r\nQ 47.125 51.421875 43.28125 58.90625 \r\nQ 39.453125 66.40625 31.78125 66.40625 \r\nz\r\nM 31.78125 74.21875 \r\nQ 44.046875 74.21875 50.515625 64.515625 \r\nQ 56.984375 54.828125 56.984375 36.375 \r\nQ 56.984375 17.96875 50.515625 8.265625 \r\nQ 44.046875 -1.421875 31.78125 -1.421875 \r\nQ 19.53125 -1.421875 13.0625 8.265625 \r\nQ 6.59375 17.96875 6.59375 36.375 \r\nQ 6.59375 54.828125 13.0625 64.515625 \r\nQ 19.53125 74.21875 31.78125 74.21875 \r\nz\r\n\" id=\"DejaVuSans-48\"/>\r\n       </defs>\r\n       <use xlink:href=\"#DejaVuSans-48\"/>\r\n      </g>\r\n     </g>\r\n    </g>\r\n    <g id=\"ytick_2\">\r\n     <g id=\"line2d_4\">\r\n      <g>\r\n       <use style=\"stroke:#000000;stroke-width:0.8;\" x=\"46.0125\" xlink:href=\"#mdd0d88c696\" y=\"479.453229\"/>\r\n      </g>\r\n     </g>\r\n     <g id=\"text_5\">\r\n      <!-- 10000 -->\r\n      <g transform=\"translate(7.2 483.252447)scale(0.1 -0.1)\">\r\n       <defs>\r\n        <path d=\"M 12.40625 8.296875 \r\nL 28.515625 8.296875 \r\nL 28.515625 63.921875 \r\nL 10.984375 60.40625 \r\nL 10.984375 69.390625 \r\nL 28.421875 72.90625 \r\nL 38.28125 72.90625 \r\nL 38.28125 8.296875 \r\nL 54.390625 8.296875 \r\nL 54.390625 0 \r\nL 12.40625 0 \r\nz\r\n\" id=\"DejaVuSans-49\"/>\r\n       </defs>\r\n       <use xlink:href=\"#DejaVuSans-49\"/>\r\n       <use x=\"63.623047\" xlink:href=\"#DejaVuSans-48\"/>\r\n       <use x=\"127.246094\" xlink:href=\"#DejaVuSans-48\"/>\r\n       <use x=\"190.869141\" xlink:href=\"#DejaVuSans-48\"/>\r\n       <use x=\"254.492188\" xlink:href=\"#DejaVuSans-48\"/>\r\n      </g>\r\n     </g>\r\n    </g>\r\n    <g id=\"ytick_3\">\r\n     <g id=\"line2d_5\">\r\n      <g>\r\n       <use style=\"stroke:#000000;stroke-width:0.8;\" x=\"46.0125\" xlink:href=\"#mdd0d88c696\" y=\"375.706457\"/>\r\n      </g>\r\n     </g>\r\n     <g id=\"text_6\">\r\n      <!-- 20000 -->\r\n      <g transform=\"translate(7.2 379.505676)scale(0.1 -0.1)\">\r\n       <defs>\r\n        <path d=\"M 19.1875 8.296875 \r\nL 53.609375 8.296875 \r\nL 53.609375 0 \r\nL 7.328125 0 \r\nL 7.328125 8.296875 \r\nQ 12.9375 14.109375 22.625 23.890625 \r\nQ 32.328125 33.6875 34.8125 36.53125 \r\nQ 39.546875 41.84375 41.421875 45.53125 \r\nQ 43.3125 49.21875 43.3125 52.78125 \r\nQ 43.3125 58.59375 39.234375 62.25 \r\nQ 35.15625 65.921875 28.609375 65.921875 \r\nQ 23.96875 65.921875 18.8125 64.3125 \r\nQ 13.671875 62.703125 7.8125 59.421875 \r\nL 7.8125 69.390625 \r\nQ 13.765625 71.78125 18.9375 73 \r\nQ 24.125 74.21875 28.421875 74.21875 \r\nQ 39.75 74.21875 46.484375 68.546875 \r\nQ 53.21875 62.890625 53.21875 53.421875 \r\nQ 53.21875 48.921875 51.53125 44.890625 \r\nQ 49.859375 40.875 45.40625 35.40625 \r\nQ 44.1875 33.984375 37.640625 27.21875 \r\nQ 31.109375 20.453125 19.1875 8.296875 \r\nz\r\n\" id=\"DejaVuSans-50\"/>\r\n       </defs>\r\n       <use xlink:href=\"#DejaVuSans-50\"/>\r\n       <use x=\"63.623047\" xlink:href=\"#DejaVuSans-48\"/>\r\n       <use x=\"127.246094\" xlink:href=\"#DejaVuSans-48\"/>\r\n       <use x=\"190.869141\" xlink:href=\"#DejaVuSans-48\"/>\r\n       <use x=\"254.492188\" xlink:href=\"#DejaVuSans-48\"/>\r\n      </g>\r\n     </g>\r\n    </g>\r\n    <g id=\"ytick_4\">\r\n     <g id=\"line2d_6\">\r\n      <g>\r\n       <use style=\"stroke:#000000;stroke-width:0.8;\" x=\"46.0125\" xlink:href=\"#mdd0d88c696\" y=\"271.959686\"/>\r\n      </g>\r\n     </g>\r\n     <g id=\"text_7\">\r\n      <!-- 30000 -->\r\n      <g transform=\"translate(7.2 275.758904)scale(0.1 -0.1)\">\r\n       <defs>\r\n        <path d=\"M 40.578125 39.3125 \r\nQ 47.65625 37.796875 51.625 33 \r\nQ 55.609375 28.21875 55.609375 21.1875 \r\nQ 55.609375 10.40625 48.1875 4.484375 \r\nQ 40.765625 -1.421875 27.09375 -1.421875 \r\nQ 22.515625 -1.421875 17.65625 -0.515625 \r\nQ 12.796875 0.390625 7.625 2.203125 \r\nL 7.625 11.71875 \r\nQ 11.71875 9.328125 16.59375 8.109375 \r\nQ 21.484375 6.890625 26.8125 6.890625 \r\nQ 36.078125 6.890625 40.9375 10.546875 \r\nQ 45.796875 14.203125 45.796875 21.1875 \r\nQ 45.796875 27.640625 41.28125 31.265625 \r\nQ 36.765625 34.90625 28.71875 34.90625 \r\nL 20.21875 34.90625 \r\nL 20.21875 43.015625 \r\nL 29.109375 43.015625 \r\nQ 36.375 43.015625 40.234375 45.921875 \r\nQ 44.09375 48.828125 44.09375 54.296875 \r\nQ 44.09375 59.90625 40.109375 62.90625 \r\nQ 36.140625 65.921875 28.71875 65.921875 \r\nQ 24.65625 65.921875 20.015625 65.03125 \r\nQ 15.375 64.15625 9.8125 62.3125 \r\nL 9.8125 71.09375 \r\nQ 15.4375 72.65625 20.34375 73.4375 \r\nQ 25.25 74.21875 29.59375 74.21875 \r\nQ 40.828125 74.21875 47.359375 69.109375 \r\nQ 53.90625 64.015625 53.90625 55.328125 \r\nQ 53.90625 49.265625 50.4375 45.09375 \r\nQ 46.96875 40.921875 40.578125 39.3125 \r\nz\r\n\" id=\"DejaVuSans-51\"/>\r\n       </defs>\r\n       <use xlink:href=\"#DejaVuSans-51\"/>\r\n       <use x=\"63.623047\" xlink:href=\"#DejaVuSans-48\"/>\r\n       <use x=\"127.246094\" xlink:href=\"#DejaVuSans-48\"/>\r\n       <use x=\"190.869141\" xlink:href=\"#DejaVuSans-48\"/>\r\n       <use x=\"254.492188\" xlink:href=\"#DejaVuSans-48\"/>\r\n      </g>\r\n     </g>\r\n    </g>\r\n    <g id=\"ytick_5\">\r\n     <g id=\"line2d_7\">\r\n      <g>\r\n       <use style=\"stroke:#000000;stroke-width:0.8;\" x=\"46.0125\" xlink:href=\"#mdd0d88c696\" y=\"168.212914\"/>\r\n      </g>\r\n     </g>\r\n     <g id=\"text_8\">\r\n      <!-- 40000 -->\r\n      <g transform=\"translate(7.2 172.012133)scale(0.1 -0.1)\">\r\n       <defs>\r\n        <path d=\"M 37.796875 64.3125 \r\nL 12.890625 25.390625 \r\nL 37.796875 25.390625 \r\nz\r\nM 35.203125 72.90625 \r\nL 47.609375 72.90625 \r\nL 47.609375 25.390625 \r\nL 58.015625 25.390625 \r\nL 58.015625 17.1875 \r\nL 47.609375 17.1875 \r\nL 47.609375 0 \r\nL 37.796875 0 \r\nL 37.796875 17.1875 \r\nL 4.890625 17.1875 \r\nL 4.890625 26.703125 \r\nz\r\n\" id=\"DejaVuSans-52\"/>\r\n       </defs>\r\n       <use xlink:href=\"#DejaVuSans-52\"/>\r\n       <use x=\"63.623047\" xlink:href=\"#DejaVuSans-48\"/>\r\n       <use x=\"127.246094\" xlink:href=\"#DejaVuSans-48\"/>\r\n       <use x=\"190.869141\" xlink:href=\"#DejaVuSans-48\"/>\r\n       <use x=\"254.492188\" xlink:href=\"#DejaVuSans-48\"/>\r\n      </g>\r\n     </g>\r\n    </g>\r\n    <g id=\"ytick_6\">\r\n     <g id=\"line2d_8\">\r\n      <g>\r\n       <use style=\"stroke:#000000;stroke-width:0.8;\" x=\"46.0125\" xlink:href=\"#mdd0d88c696\" y=\"64.466143\"/>\r\n      </g>\r\n     </g>\r\n     <g id=\"text_9\">\r\n      <!-- 50000 -->\r\n      <g transform=\"translate(7.2 68.265362)scale(0.1 -0.1)\">\r\n       <defs>\r\n        <path d=\"M 10.796875 72.90625 \r\nL 49.515625 72.90625 \r\nL 49.515625 64.59375 \r\nL 19.828125 64.59375 \r\nL 19.828125 46.734375 \r\nQ 21.96875 47.46875 24.109375 47.828125 \r\nQ 26.265625 48.1875 28.421875 48.1875 \r\nQ 40.625 48.1875 47.75 41.5 \r\nQ 54.890625 34.8125 54.890625 23.390625 \r\nQ 54.890625 11.625 47.5625 5.09375 \r\nQ 40.234375 -1.421875 26.90625 -1.421875 \r\nQ 22.3125 -1.421875 17.546875 -0.640625 \r\nQ 12.796875 0.140625 7.71875 1.703125 \r\nL 7.71875 11.625 \r\nQ 12.109375 9.234375 16.796875 8.0625 \r\nQ 21.484375 6.890625 26.703125 6.890625 \r\nQ 35.15625 6.890625 40.078125 11.328125 \r\nQ 45.015625 15.765625 45.015625 23.390625 \r\nQ 45.015625 31 40.078125 35.4375 \r\nQ 35.15625 39.890625 26.703125 39.890625 \r\nQ 22.75 39.890625 18.8125 39.015625 \r\nQ 14.890625 38.140625 10.796875 36.28125 \r\nz\r\n\" id=\"DejaVuSans-53\"/>\r\n       </defs>\r\n       <use xlink:href=\"#DejaVuSans-53\"/>\r\n       <use x=\"63.623047\" xlink:href=\"#DejaVuSans-48\"/>\r\n       <use x=\"127.246094\" xlink:href=\"#DejaVuSans-48\"/>\r\n       <use x=\"190.869141\" xlink:href=\"#DejaVuSans-48\"/>\r\n       <use x=\"254.492188\" xlink:href=\"#DejaVuSans-48\"/>\r\n      </g>\r\n     </g>\r\n    </g>\r\n   </g>\r\n   <g id=\"patch_7\">\r\n    <path d=\"M 46.0125 583.2 \r\nL 46.0125 7.2 \r\n\" style=\"fill:none;stroke:#000000;stroke-linecap:square;stroke-linejoin:miter;stroke-width:0.8;\"/>\r\n   </g>\r\n   <g id=\"patch_8\">\r\n    <path d=\"M 1774.0125 583.2 \r\nL 1774.0125 7.2 \r\n\" style=\"fill:none;stroke:#000000;stroke-linecap:square;stroke-linejoin:miter;stroke-width:0.8;\"/>\r\n   </g>\r\n   <g id=\"patch_9\">\r\n    <path d=\"M 46.0125 583.2 \r\nL 1774.0125 583.2 \r\n\" style=\"fill:none;stroke:#000000;stroke-linecap:square;stroke-linejoin:miter;stroke-width:0.8;\"/>\r\n   </g>\r\n   <g id=\"patch_10\">\r\n    <path d=\"M 46.0125 7.2 \r\nL 1774.0125 7.2 \r\n\" style=\"fill:none;stroke:#000000;stroke-linecap:square;stroke-linejoin:miter;stroke-width:0.8;\"/>\r\n   </g>\r\n  </g>\r\n </g>\r\n <defs>\r\n  <clipPath id=\"padb7547de4\">\r\n   <rect height=\"576\" width=\"1728\" x=\"46.0125\" y=\"7.2\"/>\r\n  </clipPath>\r\n </defs>\r\n</svg>\r\n",
      "image/png": "[encoded data removed]"
     },
     "metadata": {
      "needs_background": "light"
     }
    }
   ],
   "source": [
    "X = np.arange(2)\n",
    "fig = plt.figure()\n",
    "\n",
    "ax = fig.add_axes([0,0,4,2])\n",
    "law_classification = ['Before', 'After']\n",
    "\n",
    "ax.set_xlabel(\"Seatbelt Law Passage\")\n",
    "ax.set_xticks(range(2))\n",
    "ax.set_xticklabels(law_classification)\n",
    "\n",
    "print(ax.get_legend_handles_labels())\n",
    "\n",
    "ax.bar(X + 0.00, np_belts_before, color = 'g', width = 0.25)\n",
    "ax.bar(X + 0.25, np_belts_after_adjusted, color = 'r', width = 0.25)"
   ]
  },
  {
   "cell_type": "code",
   "execution_count": null,
   "metadata": {},
   "outputs": [],
   "source": []
  }
 ]
}