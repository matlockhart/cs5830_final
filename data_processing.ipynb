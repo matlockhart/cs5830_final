{
 "metadata": {
  "language_info": {
   "codemirror_mode": {
    "name": "ipython",
    "version": 3
   },
   "file_extension": ".py",
   "mimetype": "text/x-python",
   "name": "python",
   "nbconvert_exporter": "python",
   "pygments_lexer": "ipython3",
   "version": "3.6.3-final"
  },
  "orig_nbformat": 2,
  "kernelspec": {
   "name": "python3",
   "display_name": "Python 3.6.3 64-bit",
   "metadata": {
    "interpreter": {
     "hash": "0002a1d56b766486e161a3f06a8fa14f2818ee149eeb73a14d72be53c07d13fb"
    }
   }
  }
 },
 "nbformat": 4,
 "nbformat_minor": 2,
 "cells": [
  {
   "cell_type": "code",
   "execution_count": 1,
   "metadata": {},
   "outputs": [],
   "source": [
    "import pandas as pd"
   ]
  },
  {
   "cell_type": "code",
   "execution_count": 16,
   "metadata": {},
   "outputs": [],
   "source": [
    "data = pd.read_csv(\"Traffic_Violations_2.csv\")"
   ]
  },
  {
   "cell_type": "code",
   "execution_count": 48,
   "metadata": {},
   "outputs": [
    {
     "output_type": "execute_result",
     "data": {
      "text/plain": [
       "                               Arrest Type       c\n",
       "0                        A - Marked Patrol  192287\n",
       "1                         Q - Marked Laser   34393\n",
       "2                      B - Unmarked Patrol   10526\n",
       "3            S - License Plate Recognition    4158\n",
       "4                          O - Foot Patrol    3565\n",
       "5                           L - Motorcycle    3033\n",
       "6              E - Marked Stationary Radar    1781\n",
       "7     G - Marked Moving Radar (Stationary)    1519\n",
       "8                       R - Unmarked Laser    1237\n",
       "9         I - Marked Moving Radar (Moving)     617\n",
       "10                   M - Marked (Off-Duty)     333\n",
       "11  H - Unmarked Moving Radar (Stationary)     248\n",
       "12           F - Unmarked Stationary Radar     233\n",
       "13      J - Unmarked Moving Radar (Moving)     143\n",
       "14                       C - Marked VASCAR      76\n",
       "15                 N - Unmarked (Off-Duty)      47\n",
       "16                      P - Mounted Patrol      31\n",
       "17                     D - Unmarked VASCAR      20\n",
       "18                     K - Aircraft Assist      11"
      ],
      "text/html": "<div>\n<style scoped>\n    .dataframe tbody tr th:only-of-type {\n        vertical-align: middle;\n    }\n\n    .dataframe tbody tr th {\n        vertical-align: top;\n    }\n\n    .dataframe thead th {\n        text-align: right;\n    }\n</style>\n<table border=\"1\" class=\"dataframe\">\n  <thead>\n    <tr style=\"text-align: right;\">\n      <th></th>\n      <th>Arrest Type</th>\n      <th>c</th>\n    </tr>\n  </thead>\n  <tbody>\n    <tr>\n      <th>0</th>\n      <td>A - Marked Patrol</td>\n      <td>192287</td>\n    </tr>\n    <tr>\n      <th>1</th>\n      <td>Q - Marked Laser</td>\n      <td>34393</td>\n    </tr>\n    <tr>\n      <th>2</th>\n      <td>B - Unmarked Patrol</td>\n      <td>10526</td>\n    </tr>\n    <tr>\n      <th>3</th>\n      <td>S - License Plate Recognition</td>\n      <td>4158</td>\n    </tr>\n    <tr>\n      <th>4</th>\n      <td>O - Foot Patrol</td>\n      <td>3565</td>\n    </tr>\n    <tr>\n      <th>5</th>\n      <td>L - Motorcycle</td>\n      <td>3033</td>\n    </tr>\n    <tr>\n      <th>6</th>\n      <td>E - Marked Stationary Radar</td>\n      <td>1781</td>\n    </tr>\n    <tr>\n      <th>7</th>\n      <td>G - Marked Moving Radar (Stationary)</td>\n      <td>1519</td>\n    </tr>\n    <tr>\n      <th>8</th>\n      <td>R - Unmarked Laser</td>\n      <td>1237</td>\n    </tr>\n    <tr>\n      <th>9</th>\n      <td>I - Marked Moving Radar (Moving)</td>\n      <td>617</td>\n    </tr>\n    <tr>\n      <th>10</th>\n      <td>M - Marked (Off-Duty)</td>\n      <td>333</td>\n    </tr>\n    <tr>\n      <th>11</th>\n      <td>H - Unmarked Moving Radar (Stationary)</td>\n      <td>248</td>\n    </tr>\n    <tr>\n      <th>12</th>\n      <td>F - Unmarked Stationary Radar</td>\n      <td>233</td>\n    </tr>\n    <tr>\n      <th>13</th>\n      <td>J - Unmarked Moving Radar (Moving)</td>\n      <td>143</td>\n    </tr>\n    <tr>\n      <th>14</th>\n      <td>C - Marked VASCAR</td>\n      <td>76</td>\n    </tr>\n    <tr>\n      <th>15</th>\n      <td>N - Unmarked (Off-Duty)</td>\n      <td>47</td>\n    </tr>\n    <tr>\n      <th>16</th>\n      <td>P - Mounted Patrol</td>\n      <td>31</td>\n    </tr>\n    <tr>\n      <th>17</th>\n      <td>D - Unmarked VASCAR</td>\n      <td>20</td>\n    </tr>\n    <tr>\n      <th>18</th>\n      <td>K - Aircraft Assist</td>\n      <td>11</td>\n    </tr>\n  </tbody>\n</table>\n</div>"
     },
     "metadata": {},
     "execution_count": 48
    }
   ],
   "source": [
    "#data[data['Belts'] == 'Yes']\n",
    "#data.groupby(['Race']).agg(['count'])\n",
    "d = data.value_counts(['Arrest Type']).reset_index(name='c')\n"
   ]
  },
  {
   "cell_type": "code",
   "execution_count": 47,
   "metadata": {},
   "outputs": [
    {
     "output_type": "execute_result",
     "data": {
      "text/plain": [
       "                               Arrest Type Date Of Stop Time Of Stop  Agency  \\\n",
       "                                                  count        count   count   \n",
       "0                        A - Marked Patrol       192287       192287  192287   \n",
       "1                      B - Unmarked Patrol        10526        10526   10526   \n",
       "2                        C - Marked VASCAR           76           76      76   \n",
       "3                      D - Unmarked VASCAR           20           20      20   \n",
       "4              E - Marked Stationary Radar         1781         1781    1781   \n",
       "5            F - Unmarked Stationary Radar          233          233     233   \n",
       "6     G - Marked Moving Radar (Stationary)         1519         1519    1519   \n",
       "7   H - Unmarked Moving Radar (Stationary)          248          248     248   \n",
       "8         I - Marked Moving Radar (Moving)          617          617     617   \n",
       "9       J - Unmarked Moving Radar (Moving)          143          143     143   \n",
       "10                     K - Aircraft Assist           11           11      11   \n",
       "11                          L - Motorcycle         3033         3033    3033   \n",
       "12                   M - Marked (Off-Duty)          333          333     333   \n",
       "13                 N - Unmarked (Off-Duty)           47           47      47   \n",
       "14                         O - Foot Patrol         3565         3565    3565   \n",
       "15                      P - Mounted Patrol           31           31      31   \n",
       "16                        Q - Marked Laser        34393        34393   34393   \n",
       "17                      R - Unmarked Laser         1237         1237    1237   \n",
       "18           S - License Plate Recognition         4158         4158    4158   \n",
       "\n",
       "   SubAgency Description Location Latitude Longitude Accident  ...  \\\n",
       "       count       count    count    count     count    count  ...   \n",
       "0     192287      192287   192287   175814    175814   192287  ...   \n",
       "1      10526       10526    10526     9595      9595    10526  ...   \n",
       "2         76          76       76       63        63       76  ...   \n",
       "3         20          20       20       19        19       20  ...   \n",
       "4       1781        1781     1781     1746      1746     1781  ...   \n",
       "5        233         233      233      223       223      233  ...   \n",
       "6       1519        1519     1519     1472      1472     1519  ...   \n",
       "7        248         248      248      212       212      248  ...   \n",
       "8        617         617      617      610       610      617  ...   \n",
       "9        143         143      143      141       141      143  ...   \n",
       "10        11          11       11       11        11       11  ...   \n",
       "11      3033        3033     3033     2844      2844     3033  ...   \n",
       "12       333         333      333      312       312      333  ...   \n",
       "13        47          47       47       47        47       47  ...   \n",
       "14      3565        3565     3564     3001      3001     3565  ...   \n",
       "15        31          31       31       31        31       31  ...   \n",
       "16     34393       34393    34393    31983     31983    34393  ...   \n",
       "17      1237        1237     1237     1235      1235     1237  ...   \n",
       "18      4158        4158     4158     4006      4006     4158  ...   \n",
       "\n",
       "   Violation Type  Charge Article Contributed To Accident    Race  Gender  \\\n",
       "            count   count   count                   count   count   count   \n",
       "0          192287  192287  190902                  192287  192287  192287   \n",
       "1           10526   10526   10487                   10526   10526   10526   \n",
       "2              76      76      76                      76      76      76   \n",
       "3              20      20      20                      20      20      20   \n",
       "4            1781    1781    1778                    1781    1781    1781   \n",
       "5             233     233     233                     233     233     233   \n",
       "6            1519    1519    1516                    1519    1519    1519   \n",
       "7             248     248     246                     248     248     248   \n",
       "8             617     617     617                     617     617     617   \n",
       "9             143     143     142                     143     143     143   \n",
       "10             11      11      11                      11      11      11   \n",
       "11           3033    3033    3021                    3033    3033    3033   \n",
       "12            333     333     332                     333     333     333   \n",
       "13             47      47      47                      47      47      47   \n",
       "14           3565    3565    3558                    3565    3565    3565   \n",
       "15             31      31      31                      31      31      31   \n",
       "16          34393   34393   34348                   34393   34393   34393   \n",
       "17           1237    1237    1237                    1237    1237    1237   \n",
       "18           4158    4158    4155                    4158    4158    4158   \n",
       "\n",
       "   Driver City Driver State DL State Geolocation  \n",
       "         count        count    count       count  \n",
       "0       192274       192286   192268      175814  \n",
       "1        10526        10526    10526        9595  \n",
       "2           76           76       76          63  \n",
       "3           20           20       20          19  \n",
       "4         1781         1781     1781        1746  \n",
       "5          233          233      233         223  \n",
       "6         1519         1519     1519        1472  \n",
       "7          248          248      248         212  \n",
       "8          617          617      617         610  \n",
       "9          143          143      143         141  \n",
       "10          11           11       11          11  \n",
       "11        3032         3033     3033        2844  \n",
       "12         333          333      333         312  \n",
       "13          47           47       47          47  \n",
       "14        3565         3565     3563        3001  \n",
       "15          31           31       31          31  \n",
       "16       34392        34393    34387       31983  \n",
       "17        1237         1237     1237        1235  \n",
       "18        4158         4158     4154        4006  \n",
       "\n",
       "[19 rows x 35 columns]"
      ],
      "text/html": "<div>\n<style scoped>\n    .dataframe tbody tr th:only-of-type {\n        vertical-align: middle;\n    }\n\n    .dataframe tbody tr th {\n        vertical-align: top;\n    }\n\n    .dataframe thead tr th {\n        text-align: left;\n    }\n</style>\n<table border=\"1\" class=\"dataframe\">\n  <thead>\n    <tr>\n      <th></th>\n      <th>Arrest Type</th>\n      <th>Date Of Stop</th>\n      <th>Time Of Stop</th>\n      <th>Agency</th>\n      <th>SubAgency</th>\n      <th>Description</th>\n      <th>Location</th>\n      <th>Latitude</th>\n      <th>Longitude</th>\n      <th>Accident</th>\n      <th>...</th>\n      <th>Violation Type</th>\n      <th>Charge</th>\n      <th>Article</th>\n      <th>Contributed To Accident</th>\n      <th>Race</th>\n      <th>Gender</th>\n      <th>Driver City</th>\n      <th>Driver State</th>\n      <th>DL State</th>\n      <th>Geolocation</th>\n    </tr>\n    <tr>\n      <th></th>\n      <th></th>\n      <th>count</th>\n      <th>count</th>\n      <th>count</th>\n      <th>count</th>\n      <th>count</th>\n      <th>count</th>\n      <th>count</th>\n      <th>count</th>\n      <th>count</th>\n      <th>...</th>\n      <th>count</th>\n      <th>count</th>\n      <th>count</th>\n      <th>count</th>\n      <th>count</th>\n      <th>count</th>\n      <th>count</th>\n      <th>count</th>\n      <th>count</th>\n      <th>count</th>\n    </tr>\n  </thead>\n  <tbody>\n    <tr>\n      <th>0</th>\n      <td>A - Marked Patrol</td>\n      <td>192287</td>\n      <td>192287</td>\n      <td>192287</td>\n      <td>192287</td>\n      <td>192287</td>\n      <td>192287</td>\n      <td>175814</td>\n      <td>175814</td>\n      <td>192287</td>\n      <td>...</td>\n      <td>192287</td>\n      <td>192287</td>\n      <td>190902</td>\n      <td>192287</td>\n      <td>192287</td>\n      <td>192287</td>\n      <td>192274</td>\n      <td>192286</td>\n      <td>192268</td>\n      <td>175814</td>\n    </tr>\n    <tr>\n      <th>1</th>\n      <td>B - Unmarked Patrol</td>\n      <td>10526</td>\n      <td>10526</td>\n      <td>10526</td>\n      <td>10526</td>\n      <td>10526</td>\n      <td>10526</td>\n      <td>9595</td>\n      <td>9595</td>\n      <td>10526</td>\n      <td>...</td>\n      <td>10526</td>\n      <td>10526</td>\n      <td>10487</td>\n      <td>10526</td>\n      <td>10526</td>\n      <td>10526</td>\n      <td>10526</td>\n      <td>10526</td>\n      <td>10526</td>\n      <td>9595</td>\n    </tr>\n    <tr>\n      <th>2</th>\n      <td>C - Marked VASCAR</td>\n      <td>76</td>\n      <td>76</td>\n      <td>76</td>\n      <td>76</td>\n      <td>76</td>\n      <td>76</td>\n      <td>63</td>\n      <td>63</td>\n      <td>76</td>\n      <td>...</td>\n      <td>76</td>\n      <td>76</td>\n      <td>76</td>\n      <td>76</td>\n      <td>76</td>\n      <td>76</td>\n      <td>76</td>\n      <td>76</td>\n      <td>76</td>\n      <td>63</td>\n    </tr>\n    <tr>\n      <th>3</th>\n      <td>D - Unmarked VASCAR</td>\n      <td>20</td>\n      <td>20</td>\n      <td>20</td>\n      <td>20</td>\n      <td>20</td>\n      <td>20</td>\n      <td>19</td>\n      <td>19</td>\n      <td>20</td>\n      <td>...</td>\n      <td>20</td>\n      <td>20</td>\n      <td>20</td>\n      <td>20</td>\n      <td>20</td>\n      <td>20</td>\n      <td>20</td>\n      <td>20</td>\n      <td>20</td>\n      <td>19</td>\n    </tr>\n    <tr>\n      <th>4</th>\n      <td>E - Marked Stationary Radar</td>\n      <td>1781</td>\n      <td>1781</td>\n      <td>1781</td>\n      <td>1781</td>\n      <td>1781</td>\n      <td>1781</td>\n      <td>1746</td>\n      <td>1746</td>\n      <td>1781</td>\n      <td>...</td>\n      <td>1781</td>\n      <td>1781</td>\n      <td>1778</td>\n      <td>1781</td>\n      <td>1781</td>\n      <td>1781</td>\n      <td>1781</td>\n      <td>1781</td>\n      <td>1781</td>\n      <td>1746</td>\n    </tr>\n    <tr>\n      <th>5</th>\n      <td>F - Unmarked Stationary Radar</td>\n      <td>233</td>\n      <td>233</td>\n      <td>233</td>\n      <td>233</td>\n      <td>233</td>\n      <td>233</td>\n      <td>223</td>\n      <td>223</td>\n      <td>233</td>\n      <td>...</td>\n      <td>233</td>\n      <td>233</td>\n      <td>233</td>\n      <td>233</td>\n      <td>233</td>\n      <td>233</td>\n      <td>233</td>\n      <td>233</td>\n      <td>233</td>\n      <td>223</td>\n    </tr>\n    <tr>\n      <th>6</th>\n      <td>G - Marked Moving Radar (Stationary)</td>\n      <td>1519</td>\n      <td>1519</td>\n      <td>1519</td>\n      <td>1519</td>\n      <td>1519</td>\n      <td>1519</td>\n      <td>1472</td>\n      <td>1472</td>\n      <td>1519</td>\n      <td>...</td>\n      <td>1519</td>\n      <td>1519</td>\n      <td>1516</td>\n      <td>1519</td>\n      <td>1519</td>\n      <td>1519</td>\n      <td>1519</td>\n      <td>1519</td>\n      <td>1519</td>\n      <td>1472</td>\n    </tr>\n    <tr>\n      <th>7</th>\n      <td>H - Unmarked Moving Radar (Stationary)</td>\n      <td>248</td>\n      <td>248</td>\n      <td>248</td>\n      <td>248</td>\n      <td>248</td>\n      <td>248</td>\n      <td>212</td>\n      <td>212</td>\n      <td>248</td>\n      <td>...</td>\n      <td>248</td>\n      <td>248</td>\n      <td>246</td>\n      <td>248</td>\n      <td>248</td>\n      <td>248</td>\n      <td>248</td>\n      <td>248</td>\n      <td>248</td>\n      <td>212</td>\n    </tr>\n    <tr>\n      <th>8</th>\n      <td>I - Marked Moving Radar (Moving)</td>\n      <td>617</td>\n      <td>617</td>\n      <td>617</td>\n      <td>617</td>\n      <td>617</td>\n      <td>617</td>\n      <td>610</td>\n      <td>610</td>\n      <td>617</td>\n      <td>...</td>\n      <td>617</td>\n      <td>617</td>\n      <td>617</td>\n      <td>617</td>\n      <td>617</td>\n      <td>617</td>\n      <td>617</td>\n      <td>617</td>\n      <td>617</td>\n      <td>610</td>\n    </tr>\n    <tr>\n      <th>9</th>\n      <td>J - Unmarked Moving Radar (Moving)</td>\n      <td>143</td>\n      <td>143</td>\n      <td>143</td>\n      <td>143</td>\n      <td>143</td>\n      <td>143</td>\n      <td>141</td>\n      <td>141</td>\n      <td>143</td>\n      <td>...</td>\n      <td>143</td>\n      <td>143</td>\n      <td>142</td>\n      <td>143</td>\n      <td>143</td>\n      <td>143</td>\n      <td>143</td>\n      <td>143</td>\n      <td>143</td>\n      <td>141</td>\n    </tr>\n    <tr>\n      <th>10</th>\n      <td>K - Aircraft Assist</td>\n      <td>11</td>\n      <td>11</td>\n      <td>11</td>\n      <td>11</td>\n      <td>11</td>\n      <td>11</td>\n      <td>11</td>\n      <td>11</td>\n      <td>11</td>\n      <td>...</td>\n      <td>11</td>\n      <td>11</td>\n      <td>11</td>\n      <td>11</td>\n      <td>11</td>\n      <td>11</td>\n      <td>11</td>\n      <td>11</td>\n      <td>11</td>\n      <td>11</td>\n    </tr>\n    <tr>\n      <th>11</th>\n      <td>L - Motorcycle</td>\n      <td>3033</td>\n      <td>3033</td>\n      <td>3033</td>\n      <td>3033</td>\n      <td>3033</td>\n      <td>3033</td>\n      <td>2844</td>\n      <td>2844</td>\n      <td>3033</td>\n      <td>...</td>\n      <td>3033</td>\n      <td>3033</td>\n      <td>3021</td>\n      <td>3033</td>\n      <td>3033</td>\n      <td>3033</td>\n      <td>3032</td>\n      <td>3033</td>\n      <td>3033</td>\n      <td>2844</td>\n    </tr>\n    <tr>\n      <th>12</th>\n      <td>M - Marked (Off-Duty)</td>\n      <td>333</td>\n      <td>333</td>\n      <td>333</td>\n      <td>333</td>\n      <td>333</td>\n      <td>333</td>\n      <td>312</td>\n      <td>312</td>\n      <td>333</td>\n      <td>...</td>\n      <td>333</td>\n      <td>333</td>\n      <td>332</td>\n      <td>333</td>\n      <td>333</td>\n      <td>333</td>\n      <td>333</td>\n      <td>333</td>\n      <td>333</td>\n      <td>312</td>\n    </tr>\n    <tr>\n      <th>13</th>\n      <td>N - Unmarked (Off-Duty)</td>\n      <td>47</td>\n      <td>47</td>\n      <td>47</td>\n      <td>47</td>\n      <td>47</td>\n      <td>47</td>\n      <td>47</td>\n      <td>47</td>\n      <td>47</td>\n      <td>...</td>\n      <td>47</td>\n      <td>47</td>\n      <td>47</td>\n      <td>47</td>\n      <td>47</td>\n      <td>47</td>\n      <td>47</td>\n      <td>47</td>\n      <td>47</td>\n      <td>47</td>\n    </tr>\n    <tr>\n      <th>14</th>\n      <td>O - Foot Patrol</td>\n      <td>3565</td>\n      <td>3565</td>\n      <td>3565</td>\n      <td>3565</td>\n      <td>3565</td>\n      <td>3564</td>\n      <td>3001</td>\n      <td>3001</td>\n      <td>3565</td>\n      <td>...</td>\n      <td>3565</td>\n      <td>3565</td>\n      <td>3558</td>\n      <td>3565</td>\n      <td>3565</td>\n      <td>3565</td>\n      <td>3565</td>\n      <td>3565</td>\n      <td>3563</td>\n      <td>3001</td>\n    </tr>\n    <tr>\n      <th>15</th>\n      <td>P - Mounted Patrol</td>\n      <td>31</td>\n      <td>31</td>\n      <td>31</td>\n      <td>31</td>\n      <td>31</td>\n      <td>31</td>\n      <td>31</td>\n      <td>31</td>\n      <td>31</td>\n      <td>...</td>\n      <td>31</td>\n      <td>31</td>\n      <td>31</td>\n      <td>31</td>\n      <td>31</td>\n      <td>31</td>\n      <td>31</td>\n      <td>31</td>\n      <td>31</td>\n      <td>31</td>\n    </tr>\n    <tr>\n      <th>16</th>\n      <td>Q - Marked Laser</td>\n      <td>34393</td>\n      <td>34393</td>\n      <td>34393</td>\n      <td>34393</td>\n      <td>34393</td>\n      <td>34393</td>\n      <td>31983</td>\n      <td>31983</td>\n      <td>34393</td>\n      <td>...</td>\n      <td>34393</td>\n      <td>34393</td>\n      <td>34348</td>\n      <td>34393</td>\n      <td>34393</td>\n      <td>34393</td>\n      <td>34392</td>\n      <td>34393</td>\n      <td>34387</td>\n      <td>31983</td>\n    </tr>\n    <tr>\n      <th>17</th>\n      <td>R - Unmarked Laser</td>\n      <td>1237</td>\n      <td>1237</td>\n      <td>1237</td>\n      <td>1237</td>\n      <td>1237</td>\n      <td>1237</td>\n      <td>1235</td>\n      <td>1235</td>\n      <td>1237</td>\n      <td>...</td>\n      <td>1237</td>\n      <td>1237</td>\n      <td>1237</td>\n      <td>1237</td>\n      <td>1237</td>\n      <td>1237</td>\n      <td>1237</td>\n      <td>1237</td>\n      <td>1237</td>\n      <td>1235</td>\n    </tr>\n    <tr>\n      <th>18</th>\n      <td>S - License Plate Recognition</td>\n      <td>4158</td>\n      <td>4158</td>\n      <td>4158</td>\n      <td>4158</td>\n      <td>4158</td>\n      <td>4158</td>\n      <td>4006</td>\n      <td>4006</td>\n      <td>4158</td>\n      <td>...</td>\n      <td>4158</td>\n      <td>4158</td>\n      <td>4155</td>\n      <td>4158</td>\n      <td>4158</td>\n      <td>4158</td>\n      <td>4158</td>\n      <td>4158</td>\n      <td>4154</td>\n      <td>4006</td>\n    </tr>\n  </tbody>\n</table>\n<p>19 rows × 35 columns</p>\n</div>"
     },
     "metadata": {},
     "execution_count": 47
    }
   ],
   "source": [
    "d"
   ]
  },
  {
   "cell_type": "code",
   "execution_count": null,
   "metadata": {},
   "outputs": [],
   "source": []
  }
 ]
}