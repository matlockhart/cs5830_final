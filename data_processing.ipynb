{
 "metadata": {
  "language_info": {
   "codemirror_mode": {
    "name": "ipython",
    "version": 3
   },
   "file_extension": ".py",
   "mimetype": "text/x-python",
   "name": "python",
   "nbconvert_exporter": "python",
   "pygments_lexer": "ipython3",
   "version": "3.6.3-final"
  },
  "orig_nbformat": 2,
  "kernelspec": {
   "name": "python3",
   "display_name": "Python 3.6.3 64-bit",
   "metadata": {
    "interpreter": {
     "hash": "0002a1d56b766486e161a3f06a8fa14f2818ee149eeb73a14d72be53c07d13fb"
    }
   }
  }
 },
 "nbformat": 4,
 "nbformat_minor": 2,
 "cells": [
  {
   "cell_type": "code",
   "execution_count": 51,
   "metadata": {},
   "outputs": [],
   "source": [
    "import pandas as pd\n",
    "import seaborn as sns\n",
    "import matplotlib.pyplot"
   ]
  },
  {
   "cell_type": "code",
   "execution_count": 16,
   "metadata": {},
   "outputs": [],
   "source": [
    "data = pd.read_csv(\"Traffic_Violations_2.csv\")"
   ]
  },
  {
   "cell_type": "code",
   "execution_count": 65,
   "metadata": {},
   "outputs": [
    {
     "output_type": "execute_result",
     "data": {
      "text/plain": [
       "                               Arrest Type       c\n",
       "0                        A - Marked Patrol  192287\n",
       "1                         Q - Marked Laser   34393\n",
       "2                      B - Unmarked Patrol   10526\n",
       "3            S - License Plate Recognition    4158\n",
       "4                          O - Foot Patrol    3565\n",
       "5                           L - Motorcycle    3033\n",
       "6              E - Marked Stationary Radar    1781\n",
       "7     G - Marked Moving Radar (Stationary)    1519\n",
       "8                       R - Unmarked Laser    1237\n",
       "9         I - Marked Moving Radar (Moving)     617\n",
       "10                   M - Marked (Off-Duty)     333\n",
       "11  H - Unmarked Moving Radar (Stationary)     248\n",
       "12           F - Unmarked Stationary Radar     233\n",
       "13      J - Unmarked Moving Radar (Moving)     143\n",
       "14                       C - Marked VASCAR      76\n",
       "15                 N - Unmarked (Off-Duty)      47\n",
       "16                      P - Mounted Patrol      31\n",
       "17                     D - Unmarked VASCAR      20\n",
       "18                     K - Aircraft Assist      11"
      ],
      "text/html": "<div>\n<style scoped>\n    .dataframe tbody tr th:only-of-type {\n        vertical-align: middle;\n    }\n\n    .dataframe tbody tr th {\n        vertical-align: top;\n    }\n\n    .dataframe thead th {\n        text-align: right;\n    }\n</style>\n<table border=\"1\" class=\"dataframe\">\n  <thead>\n    <tr style=\"text-align: right;\">\n      <th></th>\n      <th>Arrest Type</th>\n      <th>c</th>\n    </tr>\n  </thead>\n  <tbody>\n    <tr>\n      <th>0</th>\n      <td>A - Marked Patrol</td>\n      <td>192287</td>\n    </tr>\n    <tr>\n      <th>1</th>\n      <td>Q - Marked Laser</td>\n      <td>34393</td>\n    </tr>\n    <tr>\n      <th>2</th>\n      <td>B - Unmarked Patrol</td>\n      <td>10526</td>\n    </tr>\n    <tr>\n      <th>3</th>\n      <td>S - License Plate Recognition</td>\n      <td>4158</td>\n    </tr>\n    <tr>\n      <th>4</th>\n      <td>O - Foot Patrol</td>\n      <td>3565</td>\n    </tr>\n    <tr>\n      <th>5</th>\n      <td>L - Motorcycle</td>\n      <td>3033</td>\n    </tr>\n    <tr>\n      <th>6</th>\n      <td>E - Marked Stationary Radar</td>\n      <td>1781</td>\n    </tr>\n    <tr>\n      <th>7</th>\n      <td>G - Marked Moving Radar (Stationary)</td>\n      <td>1519</td>\n    </tr>\n    <tr>\n      <th>8</th>\n      <td>R - Unmarked Laser</td>\n      <td>1237</td>\n    </tr>\n    <tr>\n      <th>9</th>\n      <td>I - Marked Moving Radar (Moving)</td>\n      <td>617</td>\n    </tr>\n    <tr>\n      <th>10</th>\n      <td>M - Marked (Off-Duty)</td>\n      <td>333</td>\n    </tr>\n    <tr>\n      <th>11</th>\n      <td>H - Unmarked Moving Radar (Stationary)</td>\n      <td>248</td>\n    </tr>\n    <tr>\n      <th>12</th>\n      <td>F - Unmarked Stationary Radar</td>\n      <td>233</td>\n    </tr>\n    <tr>\n      <th>13</th>\n      <td>J - Unmarked Moving Radar (Moving)</td>\n      <td>143</td>\n    </tr>\n    <tr>\n      <th>14</th>\n      <td>C - Marked VASCAR</td>\n      <td>76</td>\n    </tr>\n    <tr>\n      <th>15</th>\n      <td>N - Unmarked (Off-Duty)</td>\n      <td>47</td>\n    </tr>\n    <tr>\n      <th>16</th>\n      <td>P - Mounted Patrol</td>\n      <td>31</td>\n    </tr>\n    <tr>\n      <th>17</th>\n      <td>D - Unmarked VASCAR</td>\n      <td>20</td>\n    </tr>\n    <tr>\n      <th>18</th>\n      <td>K - Aircraft Assist</td>\n      <td>11</td>\n    </tr>\n  </tbody>\n</table>\n</div>"
     },
     "metadata": {},
     "execution_count": 65
    }
   ],
   "source": [
    "#data[data['Belts'] == 'Yes']\n",
    "#data.groupby(['Race']).agg(['count'])\n",
    "d = data.value_counts(['Arrest Type']).reset_index(name='c')\n",
    "d"
   ]
  },
  {
   "cell_type": "code",
   "execution_count": 64,
   "metadata": {},
   "outputs": [
    {
     "output_type": "execute_result",
     "data": {
      "text/plain": [
       "737"
      ]
     },
     "metadata": {},
     "execution_count": 64
    }
   ],
   "source": [
    "len(data['Charge'].unique())"
   ]
  },
  {
   "cell_type": "code",
   "execution_count": 66,
   "metadata": {},
   "outputs": [
    {
     "output_type": "execute_result",
     "data": {
      "text/plain": [
       "  Gender   count\n",
       "0      M  174761\n",
       "1      F   79380\n",
       "2      U     117"
      ],
      "text/html": "<div>\n<style scoped>\n    .dataframe tbody tr th:only-of-type {\n        vertical-align: middle;\n    }\n\n    .dataframe tbody tr th {\n        vertical-align: top;\n    }\n\n    .dataframe thead th {\n        text-align: right;\n    }\n</style>\n<table border=\"1\" class=\"dataframe\">\n  <thead>\n    <tr style=\"text-align: right;\">\n      <th></th>\n      <th>Gender</th>\n      <th>count</th>\n    </tr>\n  </thead>\n  <tbody>\n    <tr>\n      <th>0</th>\n      <td>M</td>\n      <td>174761</td>\n    </tr>\n    <tr>\n      <th>1</th>\n      <td>F</td>\n      <td>79380</td>\n    </tr>\n    <tr>\n      <th>2</th>\n      <td>U</td>\n      <td>117</td>\n    </tr>\n  </tbody>\n</table>\n</div>"
     },
     "metadata": {},
     "execution_count": 66
    }
   ],
   "source": [
    "gender = data.value_counts(['Gender']).reset_index(name='count')\n",
    "gender"
   ]
  },
  {
   "cell_type": "code",
   "execution_count": 67,
   "metadata": {},
   "outputs": [
    {
     "output_type": "execute_result",
     "data": {
      "text/plain": [
       "              Race  count\n",
       "0            WHITE  89583\n",
       "1            BLACK  79437\n",
       "2         HISPANIC  58224\n",
       "3            ASIAN  13531\n",
       "4            OTHER  13055\n",
       "5  NATIVE AMERICAN    428"
      ],
      "text/html": "<div>\n<style scoped>\n    .dataframe tbody tr th:only-of-type {\n        vertical-align: middle;\n    }\n\n    .dataframe tbody tr th {\n        vertical-align: top;\n    }\n\n    .dataframe thead th {\n        text-align: right;\n    }\n</style>\n<table border=\"1\" class=\"dataframe\">\n  <thead>\n    <tr style=\"text-align: right;\">\n      <th></th>\n      <th>Race</th>\n      <th>count</th>\n    </tr>\n  </thead>\n  <tbody>\n    <tr>\n      <th>0</th>\n      <td>WHITE</td>\n      <td>89583</td>\n    </tr>\n    <tr>\n      <th>1</th>\n      <td>BLACK</td>\n      <td>79437</td>\n    </tr>\n    <tr>\n      <th>2</th>\n      <td>HISPANIC</td>\n      <td>58224</td>\n    </tr>\n    <tr>\n      <th>3</th>\n      <td>ASIAN</td>\n      <td>13531</td>\n    </tr>\n    <tr>\n      <th>4</th>\n      <td>OTHER</td>\n      <td>13055</td>\n    </tr>\n    <tr>\n      <th>5</th>\n      <td>NATIVE AMERICAN</td>\n      <td>428</td>\n    </tr>\n  </tbody>\n</table>\n</div>"
     },
     "metadata": {},
     "execution_count": 67
    }
   ],
   "source": [
    "race = data.value_counts(['Race']).reset_index(name='count')\n",
    "race"
   ]
  },
  {
   "cell_type": "code",
   "execution_count": 68,
   "metadata": {},
   "outputs": [
    {
     "output_type": "execute_result",
     "data": {
      "text/plain": [
       "                Model  count\n",
       "0                  4S  27217\n",
       "1                  TK  16260\n",
       "2              ACCORD   9363\n",
       "3               CIVIC   8829\n",
       "4               CAMRY   7818\n",
       "...               ...    ...\n",
       "6324  E-350 SUPER DUT      1\n",
       "6325      E-350 - VAN      1\n",
       "6326        E-250 VAN      1\n",
       "6327              SRV      1\n",
       "6328              `TC      1\n",
       "\n",
       "[6329 rows x 2 columns]"
      ],
      "text/html": "<div>\n<style scoped>\n    .dataframe tbody tr th:only-of-type {\n        vertical-align: middle;\n    }\n\n    .dataframe tbody tr th {\n        vertical-align: top;\n    }\n\n    .dataframe thead th {\n        text-align: right;\n    }\n</style>\n<table border=\"1\" class=\"dataframe\">\n  <thead>\n    <tr style=\"text-align: right;\">\n      <th></th>\n      <th>Model</th>\n      <th>count</th>\n    </tr>\n  </thead>\n  <tbody>\n    <tr>\n      <th>0</th>\n      <td>4S</td>\n      <td>27217</td>\n    </tr>\n    <tr>\n      <th>1</th>\n      <td>TK</td>\n      <td>16260</td>\n    </tr>\n    <tr>\n      <th>2</th>\n      <td>ACCORD</td>\n      <td>9363</td>\n    </tr>\n    <tr>\n      <th>3</th>\n      <td>CIVIC</td>\n      <td>8829</td>\n    </tr>\n    <tr>\n      <th>4</th>\n      <td>CAMRY</td>\n      <td>7818</td>\n    </tr>\n    <tr>\n      <th>...</th>\n      <td>...</td>\n      <td>...</td>\n    </tr>\n    <tr>\n      <th>6324</th>\n      <td>E-350 SUPER DUT</td>\n      <td>1</td>\n    </tr>\n    <tr>\n      <th>6325</th>\n      <td>E-350 - VAN</td>\n      <td>1</td>\n    </tr>\n    <tr>\n      <th>6326</th>\n      <td>E-250 VAN</td>\n      <td>1</td>\n    </tr>\n    <tr>\n      <th>6327</th>\n      <td>SRV</td>\n      <td>1</td>\n    </tr>\n    <tr>\n      <th>6328</th>\n      <td>`TC</td>\n      <td>1</td>\n    </tr>\n  </tbody>\n</table>\n<p>6329 rows × 2 columns</p>\n</div>"
     },
     "metadata": {},
     "execution_count": 68
    }
   ],
   "source": [
    "model = data.value_counts(['Model']).reset_index(name='count')\n",
    "model"
   ]
  },
  {
   "cell_type": "code",
   "execution_count": 71,
   "metadata": {},
   "outputs": [
    {
     "output_type": "execute_result",
     "data": {
      "text/plain": [
       "         Make  count\n",
       "0       HONDA  27738\n",
       "1      TOYOTA  27619\n",
       "2        FORD  24727\n",
       "3      NISSAN  13887\n",
       "4        TOYT  13176\n",
       "5        HOND   8829\n",
       "6        CHEV   7588\n",
       "7       DODGE   7224\n",
       "8         BMW   7215\n",
       "9       CHEVY   6385\n",
       "10  CHEVROLET   5901\n",
       "11      ACURA   5883\n",
       "12       JEEP   5716\n",
       "13       NISS   5437\n",
       "14    HYUNDAI   4822\n",
       "15      LEXUS   3927\n",
       "16      MAZDA   3775\n",
       "17       MERZ   3657\n",
       "18        GMC   3460\n",
       "19        KIA   3377"
      ],
      "text/html": "<div>\n<style scoped>\n    .dataframe tbody tr th:only-of-type {\n        vertical-align: middle;\n    }\n\n    .dataframe tbody tr th {\n        vertical-align: top;\n    }\n\n    .dataframe thead th {\n        text-align: right;\n    }\n</style>\n<table border=\"1\" class=\"dataframe\">\n  <thead>\n    <tr style=\"text-align: right;\">\n      <th></th>\n      <th>Make</th>\n      <th>count</th>\n    </tr>\n  </thead>\n  <tbody>\n    <tr>\n      <th>0</th>\n      <td>HONDA</td>\n      <td>27738</td>\n    </tr>\n    <tr>\n      <th>1</th>\n      <td>TOYOTA</td>\n      <td>27619</td>\n    </tr>\n    <tr>\n      <th>2</th>\n      <td>FORD</td>\n      <td>24727</td>\n    </tr>\n    <tr>\n      <th>3</th>\n      <td>NISSAN</td>\n      <td>13887</td>\n    </tr>\n    <tr>\n      <th>4</th>\n      <td>TOYT</td>\n      <td>13176</td>\n    </tr>\n    <tr>\n      <th>5</th>\n      <td>HOND</td>\n      <td>8829</td>\n    </tr>\n    <tr>\n      <th>6</th>\n      <td>CHEV</td>\n      <td>7588</td>\n    </tr>\n    <tr>\n      <th>7</th>\n      <td>DODGE</td>\n      <td>7224</td>\n    </tr>\n    <tr>\n      <th>8</th>\n      <td>BMW</td>\n      <td>7215</td>\n    </tr>\n    <tr>\n      <th>9</th>\n      <td>CHEVY</td>\n      <td>6385</td>\n    </tr>\n    <tr>\n      <th>10</th>\n      <td>CHEVROLET</td>\n      <td>5901</td>\n    </tr>\n    <tr>\n      <th>11</th>\n      <td>ACURA</td>\n      <td>5883</td>\n    </tr>\n    <tr>\n      <th>12</th>\n      <td>JEEP</td>\n      <td>5716</td>\n    </tr>\n    <tr>\n      <th>13</th>\n      <td>NISS</td>\n      <td>5437</td>\n    </tr>\n    <tr>\n      <th>14</th>\n      <td>HYUNDAI</td>\n      <td>4822</td>\n    </tr>\n    <tr>\n      <th>15</th>\n      <td>LEXUS</td>\n      <td>3927</td>\n    </tr>\n    <tr>\n      <th>16</th>\n      <td>MAZDA</td>\n      <td>3775</td>\n    </tr>\n    <tr>\n      <th>17</th>\n      <td>MERZ</td>\n      <td>3657</td>\n    </tr>\n    <tr>\n      <th>18</th>\n      <td>GMC</td>\n      <td>3460</td>\n    </tr>\n    <tr>\n      <th>19</th>\n      <td>KIA</td>\n      <td>3377</td>\n    </tr>\n  </tbody>\n</table>\n</div>"
     },
     "metadata": {},
     "execution_count": 71
    }
   ],
   "source": [
    "make = data.value_counts(['Make']).reset_index(name='count')\n",
    "make.head(20)"
   ]
  },
  {
   "cell_type": "code",
   "execution_count": 72,
   "metadata": {},
   "outputs": [
    {
     "output_type": "execute_result",
     "data": {
      "text/plain": [
       "      Year  count\n",
       "0   2006.0  15680\n",
       "1   2007.0  15438\n",
       "2   2005.0  14827\n",
       "3   2004.0  14616\n",
       "4   2003.0  14321\n",
       "5   2012.0  14152\n",
       "6   2013.0  14017\n",
       "7   2008.0  13887\n",
       "8   2011.0  13273\n",
       "9   2002.0  12798\n",
       "10  2010.0  12355\n",
       "11  2014.0  11720\n",
       "12  2015.0  11160\n",
       "13  2000.0  11066\n",
       "14  2001.0  11000\n",
       "15  2009.0  10614\n",
       "16  1999.0   8123\n",
       "17  2016.0   6828\n",
       "18  1998.0   6242\n",
       "19  1997.0   5101"
      ],
      "text/html": "<div>\n<style scoped>\n    .dataframe tbody tr th:only-of-type {\n        vertical-align: middle;\n    }\n\n    .dataframe tbody tr th {\n        vertical-align: top;\n    }\n\n    .dataframe thead th {\n        text-align: right;\n    }\n</style>\n<table border=\"1\" class=\"dataframe\">\n  <thead>\n    <tr style=\"text-align: right;\">\n      <th></th>\n      <th>Year</th>\n      <th>count</th>\n    </tr>\n  </thead>\n  <tbody>\n    <tr>\n      <th>0</th>\n      <td>2006.0</td>\n      <td>15680</td>\n    </tr>\n    <tr>\n      <th>1</th>\n      <td>2007.0</td>\n      <td>15438</td>\n    </tr>\n    <tr>\n      <th>2</th>\n      <td>2005.0</td>\n      <td>14827</td>\n    </tr>\n    <tr>\n      <th>3</th>\n      <td>2004.0</td>\n      <td>14616</td>\n    </tr>\n    <tr>\n      <th>4</th>\n      <td>2003.0</td>\n      <td>14321</td>\n    </tr>\n    <tr>\n      <th>5</th>\n      <td>2012.0</td>\n      <td>14152</td>\n    </tr>\n    <tr>\n      <th>6</th>\n      <td>2013.0</td>\n      <td>14017</td>\n    </tr>\n    <tr>\n      <th>7</th>\n      <td>2008.0</td>\n      <td>13887</td>\n    </tr>\n    <tr>\n      <th>8</th>\n      <td>2011.0</td>\n      <td>13273</td>\n    </tr>\n    <tr>\n      <th>9</th>\n      <td>2002.0</td>\n      <td>12798</td>\n    </tr>\n    <tr>\n      <th>10</th>\n      <td>2010.0</td>\n      <td>12355</td>\n    </tr>\n    <tr>\n      <th>11</th>\n      <td>2014.0</td>\n      <td>11720</td>\n    </tr>\n    <tr>\n      <th>12</th>\n      <td>2015.0</td>\n      <td>11160</td>\n    </tr>\n    <tr>\n      <th>13</th>\n      <td>2000.0</td>\n      <td>11066</td>\n    </tr>\n    <tr>\n      <th>14</th>\n      <td>2001.0</td>\n      <td>11000</td>\n    </tr>\n    <tr>\n      <th>15</th>\n      <td>2009.0</td>\n      <td>10614</td>\n    </tr>\n    <tr>\n      <th>16</th>\n      <td>1999.0</td>\n      <td>8123</td>\n    </tr>\n    <tr>\n      <th>17</th>\n      <td>2016.0</td>\n      <td>6828</td>\n    </tr>\n    <tr>\n      <th>18</th>\n      <td>1998.0</td>\n      <td>6242</td>\n    </tr>\n    <tr>\n      <th>19</th>\n      <td>1997.0</td>\n      <td>5101</td>\n    </tr>\n  </tbody>\n</table>\n</div>"
     },
     "metadata": {},
     "execution_count": 72
    }
   ],
   "source": [
    "year = data.value_counts(['Year']).reset_index(name='count')\n",
    "year.head(20)"
   ]
  },
  {
   "cell_type": "code",
   "execution_count": 73,
   "metadata": {},
   "outputs": [
    {
     "output_type": "execute_result",
     "data": {
      "text/plain": [
       "          Color  count\n",
       "0         BLACK  51149\n",
       "1        SILVER  45446\n",
       "2         WHITE  40100\n",
       "3          GRAY  27662\n",
       "4           RED  20078\n",
       "5          BLUE  18482\n",
       "6         GREEN   9091\n",
       "7          GOLD   8530\n",
       "8    BLUE, DARK   5631\n",
       "9           TAN   5055\n",
       "10       MAROON   4497\n",
       "11  BLUE, LIGHT   3470\n",
       "12        BEIGE   2761\n",
       "13    GREEN, DK   2727\n",
       "14   GREEN, LGT   1429\n",
       "15        BROWN   1275\n",
       "16       YELLOW    944\n",
       "17       ORANGE    724\n",
       "18       BRONZE    588\n",
       "19       PURPLE    525\n",
       "20   MULTICOLOR    242\n",
       "21        CREAM    183\n",
       "22       COPPER     81\n",
       "23         PINK     15\n",
       "24   CAMOUFLAGE      4\n",
       "25       CHROME      2"
      ],
      "text/html": "<div>\n<style scoped>\n    .dataframe tbody tr th:only-of-type {\n        vertical-align: middle;\n    }\n\n    .dataframe tbody tr th {\n        vertical-align: top;\n    }\n\n    .dataframe thead th {\n        text-align: right;\n    }\n</style>\n<table border=\"1\" class=\"dataframe\">\n  <thead>\n    <tr style=\"text-align: right;\">\n      <th></th>\n      <th>Color</th>\n      <th>count</th>\n    </tr>\n  </thead>\n  <tbody>\n    <tr>\n      <th>0</th>\n      <td>BLACK</td>\n      <td>51149</td>\n    </tr>\n    <tr>\n      <th>1</th>\n      <td>SILVER</td>\n      <td>45446</td>\n    </tr>\n    <tr>\n      <th>2</th>\n      <td>WHITE</td>\n      <td>40100</td>\n    </tr>\n    <tr>\n      <th>3</th>\n      <td>GRAY</td>\n      <td>27662</td>\n    </tr>\n    <tr>\n      <th>4</th>\n      <td>RED</td>\n      <td>20078</td>\n    </tr>\n    <tr>\n      <th>5</th>\n      <td>BLUE</td>\n      <td>18482</td>\n    </tr>\n    <tr>\n      <th>6</th>\n      <td>GREEN</td>\n      <td>9091</td>\n    </tr>\n    <tr>\n      <th>7</th>\n      <td>GOLD</td>\n      <td>8530</td>\n    </tr>\n    <tr>\n      <th>8</th>\n      <td>BLUE, DARK</td>\n      <td>5631</td>\n    </tr>\n    <tr>\n      <th>9</th>\n      <td>TAN</td>\n      <td>5055</td>\n    </tr>\n    <tr>\n      <th>10</th>\n      <td>MAROON</td>\n      <td>4497</td>\n    </tr>\n    <tr>\n      <th>11</th>\n      <td>BLUE, LIGHT</td>\n      <td>3470</td>\n    </tr>\n    <tr>\n      <th>12</th>\n      <td>BEIGE</td>\n      <td>2761</td>\n    </tr>\n    <tr>\n      <th>13</th>\n      <td>GREEN, DK</td>\n      <td>2727</td>\n    </tr>\n    <tr>\n      <th>14</th>\n      <td>GREEN, LGT</td>\n      <td>1429</td>\n    </tr>\n    <tr>\n      <th>15</th>\n      <td>BROWN</td>\n      <td>1275</td>\n    </tr>\n    <tr>\n      <th>16</th>\n      <td>YELLOW</td>\n      <td>944</td>\n    </tr>\n    <tr>\n      <th>17</th>\n      <td>ORANGE</td>\n      <td>724</td>\n    </tr>\n    <tr>\n      <th>18</th>\n      <td>BRONZE</td>\n      <td>588</td>\n    </tr>\n    <tr>\n      <th>19</th>\n      <td>PURPLE</td>\n      <td>525</td>\n    </tr>\n    <tr>\n      <th>20</th>\n      <td>MULTICOLOR</td>\n      <td>242</td>\n    </tr>\n    <tr>\n      <th>21</th>\n      <td>CREAM</td>\n      <td>183</td>\n    </tr>\n    <tr>\n      <th>22</th>\n      <td>COPPER</td>\n      <td>81</td>\n    </tr>\n    <tr>\n      <th>23</th>\n      <td>PINK</td>\n      <td>15</td>\n    </tr>\n    <tr>\n      <th>24</th>\n      <td>CAMOUFLAGE</td>\n      <td>4</td>\n    </tr>\n    <tr>\n      <th>25</th>\n      <td>CHROME</td>\n      <td>2</td>\n    </tr>\n  </tbody>\n</table>\n</div>"
     },
     "metadata": {},
     "execution_count": 73
    }
   ],
   "source": [
    "color = data.value_counts(['Color']).reset_index(name='count')\n",
    "color"
   ]
  },
  {
   "cell_type": "code",
   "execution_count": 77,
   "metadata": {},
   "outputs": [
    {
     "output_type": "execute_result",
     "data": {
      "text/plain": [
       "   time_data  count\n",
       "0         23  17587\n",
       "1         22  16862\n",
       "2         08  15369\n",
       "3         00  14616\n",
       "4         01  12847\n",
       "5         09  12671\n",
       "6         16  12398\n",
       "7         21  12173\n",
       "8         10  12044\n",
       "9         17  11990\n",
       "10        02  10698\n",
       "11        14  10614\n",
       "12        11  10429\n",
       "13        07  10157\n",
       "14        13   9979\n",
       "15        15   9671\n",
       "16        12   9632\n",
       "17        18   9097\n",
       "18        20   8851\n",
       "19        19   8120\n",
       "20        03   7147\n",
       "21        06   4564\n",
       "22        04   4254\n",
       "23        05   2488"
      ],
      "text/html": "<div>\n<style scoped>\n    .dataframe tbody tr th:only-of-type {\n        vertical-align: middle;\n    }\n\n    .dataframe tbody tr th {\n        vertical-align: top;\n    }\n\n    .dataframe thead th {\n        text-align: right;\n    }\n</style>\n<table border=\"1\" class=\"dataframe\">\n  <thead>\n    <tr style=\"text-align: right;\">\n      <th></th>\n      <th>time_data</th>\n      <th>count</th>\n    </tr>\n  </thead>\n  <tbody>\n    <tr>\n      <th>0</th>\n      <td>23</td>\n      <td>17587</td>\n    </tr>\n    <tr>\n      <th>1</th>\n      <td>22</td>\n      <td>16862</td>\n    </tr>\n    <tr>\n      <th>2</th>\n      <td>08</td>\n      <td>15369</td>\n    </tr>\n    <tr>\n      <th>3</th>\n      <td>00</td>\n      <td>14616</td>\n    </tr>\n    <tr>\n      <th>4</th>\n      <td>01</td>\n      <td>12847</td>\n    </tr>\n    <tr>\n      <th>5</th>\n      <td>09</td>\n      <td>12671</td>\n    </tr>\n    <tr>\n      <th>6</th>\n      <td>16</td>\n      <td>12398</td>\n    </tr>\n    <tr>\n      <th>7</th>\n      <td>21</td>\n      <td>12173</td>\n    </tr>\n    <tr>\n      <th>8</th>\n      <td>10</td>\n      <td>12044</td>\n    </tr>\n    <tr>\n      <th>9</th>\n      <td>17</td>\n      <td>11990</td>\n    </tr>\n    <tr>\n      <th>10</th>\n      <td>02</td>\n      <td>10698</td>\n    </tr>\n    <tr>\n      <th>11</th>\n      <td>14</td>\n      <td>10614</td>\n    </tr>\n    <tr>\n      <th>12</th>\n      <td>11</td>\n      <td>10429</td>\n    </tr>\n    <tr>\n      <th>13</th>\n      <td>07</td>\n      <td>10157</td>\n    </tr>\n    <tr>\n      <th>14</th>\n      <td>13</td>\n      <td>9979</td>\n    </tr>\n    <tr>\n      <th>15</th>\n      <td>15</td>\n      <td>9671</td>\n    </tr>\n    <tr>\n      <th>16</th>\n      <td>12</td>\n      <td>9632</td>\n    </tr>\n    <tr>\n      <th>17</th>\n      <td>18</td>\n      <td>9097</td>\n    </tr>\n    <tr>\n      <th>18</th>\n      <td>20</td>\n      <td>8851</td>\n    </tr>\n    <tr>\n      <th>19</th>\n      <td>19</td>\n      <td>8120</td>\n    </tr>\n    <tr>\n      <th>20</th>\n      <td>03</td>\n      <td>7147</td>\n    </tr>\n    <tr>\n      <th>21</th>\n      <td>06</td>\n      <td>4564</td>\n    </tr>\n    <tr>\n      <th>22</th>\n      <td>04</td>\n      <td>4254</td>\n    </tr>\n    <tr>\n      <th>23</th>\n      <td>05</td>\n      <td>2488</td>\n    </tr>\n  </tbody>\n</table>\n</div>"
     },
     "metadata": {},
     "execution_count": 77
    }
   ],
   "source": [
    "data['time_data'] = data['Time Of Stop'].apply(lambda x: x.split(\":\")[0]) #data['Time Of Stop']\n",
    "time = data.value_counts(['time_data']).reset_index(name='count')\n",
    "time"
   ]
  },
  {
   "cell_type": "code",
   "execution_count": 78,
   "metadata": {},
   "outputs": [
    {
     "output_type": "execute_result",
     "data": {
      "text/plain": [
       "   month  count\n",
       "0     05  27793\n",
       "1     04  27746\n",
       "2     06  26522\n",
       "3     10  26353\n",
       "4     08  25112\n",
       "5     09  24677\n",
       "6     07  24001\n",
       "7     11  22758\n",
       "8     03  17728\n",
       "9     02  10766\n",
       "10    01  10728\n",
       "11    12  10074"
      ],
      "text/html": "<div>\n<style scoped>\n    .dataframe tbody tr th:only-of-type {\n        vertical-align: middle;\n    }\n\n    .dataframe tbody tr th {\n        vertical-align: top;\n    }\n\n    .dataframe thead th {\n        text-align: right;\n    }\n</style>\n<table border=\"1\" class=\"dataframe\">\n  <thead>\n    <tr style=\"text-align: right;\">\n      <th></th>\n      <th>month</th>\n      <th>count</th>\n    </tr>\n  </thead>\n  <tbody>\n    <tr>\n      <th>0</th>\n      <td>05</td>\n      <td>27793</td>\n    </tr>\n    <tr>\n      <th>1</th>\n      <td>04</td>\n      <td>27746</td>\n    </tr>\n    <tr>\n      <th>2</th>\n      <td>06</td>\n      <td>26522</td>\n    </tr>\n    <tr>\n      <th>3</th>\n      <td>10</td>\n      <td>26353</td>\n    </tr>\n    <tr>\n      <th>4</th>\n      <td>08</td>\n      <td>25112</td>\n    </tr>\n    <tr>\n      <th>5</th>\n      <td>09</td>\n      <td>24677</td>\n    </tr>\n    <tr>\n      <th>6</th>\n      <td>07</td>\n      <td>24001</td>\n    </tr>\n    <tr>\n      <th>7</th>\n      <td>11</td>\n      <td>22758</td>\n    </tr>\n    <tr>\n      <th>8</th>\n      <td>03</td>\n      <td>17728</td>\n    </tr>\n    <tr>\n      <th>9</th>\n      <td>02</td>\n      <td>10766</td>\n    </tr>\n    <tr>\n      <th>10</th>\n      <td>01</td>\n      <td>10728</td>\n    </tr>\n    <tr>\n      <th>11</th>\n      <td>12</td>\n      <td>10074</td>\n    </tr>\n  </tbody>\n</table>\n</div>"
     },
     "metadata": {},
     "execution_count": 78
    }
   ],
   "source": [
    "data['month'] = data['Date Of Stop'].apply(lambda x: x.split(\"/\")[0]) #data['Time Of Stop']\n",
    "month = data.value_counts(['month']).reset_index(name='count')\n",
    "month"
   ]
  },
  {
   "cell_type": "code",
   "execution_count": null,
   "metadata": {},
   "outputs": [],
   "source": []
  }
 ]
}